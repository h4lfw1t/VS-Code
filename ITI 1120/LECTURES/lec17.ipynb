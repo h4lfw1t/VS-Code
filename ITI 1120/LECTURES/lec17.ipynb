{
 "cells": [
  {
   "cell_type": "markdown",
   "metadata": {},
   "source": [
    "# Lec 17 Notes\n",
    "##### Sets\n",
    "A set is a collection of unordered, unique elements. In this sense, sets can be used to create a list of unique elements. In python, sets are identified by '{}'. For example, s={10,3,11}."
   ]
  },
  {
   "cell_type": "code",
   "execution_count": 3,
   "metadata": {},
   "outputs": [
    {
     "data": {
      "text/plain": [
       "set"
      ]
     },
     "execution_count": 3,
     "metadata": {},
     "output_type": "execute_result"
    }
   ],
   "source": [
    "s={10,3,11}\n",
    "type(s)"
   ]
  },
  {
   "cell_type": "markdown",
   "metadata": {},
   "source": [
    "Sets cannot be sorted in the same way a list can, however there are methods such as s.add(), s.remove(), which add or remove elements from a set."
   ]
  },
  {
   "cell_type": "code",
   "execution_count": 7,
   "metadata": {},
   "outputs": [
    {
     "data": {
      "text/plain": [
       "{10, 11, 20}"
      ]
     },
     "execution_count": 7,
     "metadata": {},
     "output_type": "execute_result"
    }
   ],
   "source": [
    "s={10,3,11}\n",
    "s.add(20)\n",
    "s.remove(3)\n",
    "s"
   ]
  },
  {
   "cell_type": "markdown",
   "metadata": {},
   "source": [
    "Functions such as *int()*, *list()*, *str()*, *float()*. . . can be contained in a set and are known as **constructors**. Any combination of constructors can be included in a set.\n",
    "\n",
    "A comparison of the abilities of non-sorted lists, sorted lists, and sets is as follows:\n",
    "\n",
    "* **Non-sorted List of size n**\n",
    "    * add --> *l.append()*      O(1)\n",
    "    * delete --> *l.remove()*   O(n)\n",
    "    * search --> *in*           O(n)\n",
    "    * successor/predecessor     O(n)\n",
    "___\n",
    "* **Sorted List of size n**\n",
    "    * add --> *l.append()*      O(n)\n",
    "    * remove --> *l.remove()*   O(n)\n",
    "    * search --> *binary_search()   O(logn)\n",
    "    * successor/predecessor       O(logn)\n",
    "___\n",
    "* **Set of size n**\n",
    "    * add --> *s.add()*     O(1)\n",
    "    * remove --> *s.remove()* O(1)\n",
    "    * search --> *in*         O(1)\n",
    "    * successor/predecessor   O(1)"
   ]
  },
  {
   "cell_type": "markdown",
   "metadata": {},
   "source": [
    "By adding a list of strings to a set, it will remove all duplicates of each element."
   ]
  },
  {
   "cell_type": "code",
   "execution_count": 8,
   "metadata": {},
   "outputs": [
    {
     "data": {
      "text/plain": [
       "{'hi', 'wassup', 'world'}"
      ]
     },
     "execution_count": 8,
     "metadata": {},
     "output_type": "execute_result"
    }
   ],
   "source": [
    "l=['hi','hi','wassup','world','hi','wassup']\n",
    "s=set(l)\n",
    "s"
   ]
  },
  {
   "cell_type": "markdown",
   "metadata": {},
   "source": [
    "#### Dictionaries\n",
    "\n",
    "A dictionary is an unordered collection of items, each item having a *key-value pair*. Dictionaries are mutable objects whose values can be of any type, while the keys must be immutable data types such as *strings*, *numbers*, or *tuples*."
   ]
  },
  {
   "cell_type": "markdown",
   "metadata": {},
   "source": [
    "The following code contains functions to return a list of palindromes and a list of anadromes. This is an entirely useless application of I don't even know what."
   ]
  },
  {
   "cell_type": "code",
   "execution_count": 9,
   "metadata": {},
   "outputs": [
    {
     "name": "stdout",
     "output_type": "stream",
     "text": [
      "['a', 'a', 'aa', 'aba', 'abba', 'acca', 'ada', 'adda', 'adda', 'adinida', 'affa', 'aga', 'aha', 'ajaja', 'ajaja', 'aka', 'aka', 'akka', 'ala', 'alala', 'alala', 'alula', 'ama', 'amma', 'amma', 'ana', 'ana', 'anana', 'anna', 'anna', 'apa', 'ara', 'arara', 'arara', 'asa', 'ata', 'atta', 'atta', 'ava', 'awa', 'b', 'b', 'bab', 'bib', 'bob', 'bob', 'boob', 'bub', 'c', 'c', 'civic', 'd', 'd', 'dad', 'deed', 'deedeed', 'degged', 'did', 'dod', 'dud', 'e', 'e', 'eke', 'elle', 'eme', 'ere', 'eve', 'eve', 'ewe', 'ewe', 'eye', 'f', 'f', 'g', 'g', 'gag', 'gig', 'gog', 'h', 'h', 'hah', 'hallah', 'huh', 'i', 'i', 'ihi', 'imi', 'immi', 'j', 'j', 'k', 'k', 'kakkak', 'kassak', 'kayak', 'kazak', 'keek', 'kelek', 'l', 'l', 'lemel', 'level', 'm', 'm', 'maam', 'madam', 'malayalam', 'mam', 'mem', 'mesem', 'mim', 'minim', 'mum', 'murdrum', 'n', 'n', 'nan', 'nan', 'non', 'noon', 'nun', 'o', 'o', 'ofo', 'oho', 'oto', 'otto', 'otto', 'p', 'p', 'pap', 'peep', 'pep', 'pip', 'poop', 'pop', 'pop', 'pup', 'q', 'q', 'r', 'r', 'radar', 'redder', 'refer', 'repaper', 'retter', 'rever', 'reviver', 'rotator', 'rotor', 's', 's', 'samas', 'senones', 'seres', 'siris', 'sis', 'sis', 'sooloos', 'sus', 't', 't', 'tat', 'tat', 'tebbet', 'tebet', 'teet', 'tenet', 'terret', 'tit', 'toot', 'tot', 'tst', 'tut', 'tyt', 'u', 'u', 'ulu', 'ululu', 'umu', 'uru', 'utu', 'v', 'v', 'w', 'w', 'waw', 'wow', 'x', 'x', 'y', 'y', 'yaray', 'yoy', 'z', 'z']\n",
      "['llew', 'relap', 'liar', 'twas', 'stoof', 'no', 'lop', 'sunil', 'ceps', 'raga', 'dad', 'mart', 'dessert', 'borer', 'alula', 'pug', 'sope', 'se', 'blay', 'dian', 'gor', 'agib', 'd', 'ewe', 'toop', 'gam', 'ibo', 'anil', 'gaz', 'salta', 'dar', 'nona', 'remi', 'sural', 'aru', 'aro', 'noop', 'gin', 'alma', 'redleg', 'manuma', 'bud', 'nig', 'ah', 'epos', 'noel', 'loof', 'drib', 'dot', 'iten', 'mesa', 'bim', 'adet', 'report', 'tsuga', 'abut', 'ey', 'ofo', 'ak', 'anam', 'tan', 'pus', 'manna', 'rub', 'pom', 'don', 'lias', 'dorp', 'bank', 'map', 'lowa', 'rug', 'nu', 'aulu', 'an', 'p', 'tink', 'sier', 'bid', 'gel', 'terret', 'etna', 'reh', 'ajaja', 'vat', 'namda', 'imer', 'esne', 'bod', 'are', 'brab', 'warder', 'cap', 'kees', 'ran', 'leud', 'tops', 'rohob', 'sod', 'kuar', 'tarp', 'sooloos', 'wap', 'omit', 'radar', 'dob', 'poon', 'mod', 'un', 'sway', 'ati', 'depoh', 'sina', 'yaws', 'anasa', 'ean', 'wes', 'aes', 'moot', 'tor', 'poh', 'cit', 'rated', 'meet', 'wac', 'trapa', 'u', 'rot', 'bab', 'yap', 'stow', 'flew', 'anal', 'bit', 'war', 'dray', 'trow', 'rut', 'tewer', 'saba', 'mil', 'palp', 'timid', 'poot', 'jat', 'nomad', 'pob', 'h', 'wat', 'teem', 'tracer', 'so', 'elops', 'yes', 'emu', 'top', 'rap', 'fiar', 'burt', 'ladin', 'seer', 'dos', 'alem', 'bor', 'golfer', 'anacara', 'dap', 'prut', 'elia', 'immi', 'ree', 'bag', 'toper', 'mem', 'say', 'od', 'bos', 'reve', 'imi', 'duel', 'leek', 'las', 'nori', 'mias', 'gud', 'ges', 'rip', 'nae', 'turp', 'dier', 'sgad', 'asana', 'nark', 'paced', 'supa', 'oat', 'elaps', 'aht', 'nave', 'pow', 'fro', 'grad', 'raj', 'awat', 'sob', 'dewer', 'yarb', 'regal', 'read', 'nub', 'um', 'animal', 'oam', 'gon', 'axon', 'deed', 'lana', 'rogan', 'gob', 'devil', 'gum', 'rees', 'ed', 'nifle', 'yot', 'reb', 'big', 'degged', 'tot', 'rewed', 'adman', 'trah', 'dool', 'alle', 'spale', 'otus', 'ulua', 'mal', 'atlas', 'gorb', 'ihi', 'rauk', 'nil', 'mar', 'darts', 'orc', 'bat', 'hallan', 'retter', 'enol', 'rada', 'alban', 'retier', 'kay', 'cam', 'rab', 'obi', 'tra', 'suto', 'leet', 'taws', 'bac', 'seek', 'spat', 'darg', 'nabla', 'mir', 'drow', 'auk', 'tram', 'meed', 'ogpu', 'knot', 'robur', 'lion', 'nag', 'caw', 'gab', 'orf', 'rat', 'pita', 'rod', 'yah', 'ye', 'wot', 'obol', 'mig', 'asem', 'room', 'spart', 'avis', 'ora', 'larus', 'wab', 'pooh', 'loot', 'ria', 'rewet', 'a', 'bats', 'net', 'wop', 'tol', 'ado', 'i', 'way', 'mool', 'amiced', 'wag', 'umu', 'sib', 'keel', 'stut', 'haw', 'elod', 'pig', 'tab', 'ante', 'drub', 'lair', 'isba', 'dibrom', 'eloah', 'god', 'gut', 'yew', 'cab', 'moor', 'kua', 'mim', 'gos', 'neb', 'timer', 'leat', 'leon', 'hallah', 'rel', 'nid', 'clat', 'pir', 'reit', 'o', 'moha', 'enif', 'blub', 'rayan', 'oda', 'era', 'civic', 'aer', 'nun', 'amen', 'rok', 's', 'trug', 'tennis', 'r', 'mib', 'day', 'aider', 'wah', 'de', 'tool', 'teg', 'amma', 'drail', 'tier', 'lager', 'bur', 'hakam', 'teet', 'bed', 'is', 'get', 'j', 'ajar', 'tenner', 'nias', 'aile', 'acara', 'tom', 'raif', 'feer', 'oka', 'sita', 'ahom', 'as', 'mas', 'damon', 'elfin', 'emir', 'laban', 'bonk', 'siva', 'anna', 're', 'reiter', 'reet', 'sis', 'lap', 'kor', 'wels', 'emil', 'ron', 'tug', 'mid', 'nay', 'knap', 'eciton', 'redrawer', 'gul', 'gnaw', 'nar', 'tael', 'laid', 'naw', 'adad', 'bar', 'suber', 'gig', 'gag', 'batik', 'sumatra', 'lone', 'mooder', 'nak', 'lakota', 'gal', 'mew', 'gat', 'art', 'fi', 'atokal', 'mela', 'ma', 'ged', 'won', 'aire', 'pac', 'cro', 'abac', 'rotator', 'bin', 'x', 'rennet', 'ever', 'reel', 'live', 'pit', 'amar', 'per', 'taen', 'plup', 'rag', 'tid', 'diva', 'adda', 'nan', 'bun', 'min', 'me', 'draw', 'pop', 'fig', 'atta', 'gup', 'peek', 'of', 'knab', 'yom', 'bib', 'sain', 'teemer', 'had', 'owl', 'enow', 'dag', 'leper', 'dilo', 'ura', 'waw', 'teen', 'tav', 'wet', 'relevel', 'reflog', 'nod', 'ro', 'tap', 'nim', 'turb', 'upgo', 'tuba', 'doob', 'malo', 'taps', 'dace', 'ecad', 'fen', 'deb', 'sog', 'cos', 'dal', 'trap', 'allay', 'nopal', 'lava', 'liard', 'til', 'evan', 'sab', 'hoop', 'taw', 'dug', 'anan', 'reward', 'gid', 'beid', 'wolf', 'haole', 'sus', 'gelder', 'samas', 'decima', 'lois', 'ha', 'ton', 'ne', 'sag', 'doc', 'avid', 'isis', 'ho', 'traps', 'lamina', 'l', 'laced', 'rood', 'olam', 'tay', 'dey', 'zaman', 'pool', 'tun', 'part', 'sur', 'dirca', 'mao', 'assam', 'hop', 'rad', 'golf', 'evil', 'm', 'bop', 'soma', 'cod', 'seres', 'gan', 'den', 'pay', 'yan', 'er', 'feil', 'sup', 'lapon', 'arras', 'slew', 'rime', 'anat', 'ana', 'wod', 'tuts', 'lyra', 'mug', 'ita', 'gem', 'ray', 'nallah', 'ab', 'nog', 'arab', 'neat', 'tur', 'ava', 'pot', 'tenon', 'swat', 'aval', 'asa', 'agla', 'eve', 'lobo', 'ossal', 'agama', 'daraf', 'ward', 'lat', 'but', 'was', 'lien', 'eruc', 'eyn', 'ym', 'nidal', 'oho', 'retem', 'rob', 'pan', 'nob', 'ode', 'it', 'ni', 'nagor', 'pata', 'nut', 'mian', 'etua', 'bobac', 'mam', 'pu', 'yed', 'revel', 'akka', 'aa', 'sinnet', 'awol', 'neper', 'did', 'grub', 'k', 'ense', 'en', 'sumac', 'mab', 'aril', 'redart', 'pal', 'tana', 'siris', 'taj', 'gas', 'fo', 'ranid', 'pik', 'enid', 'tog', 'radek', 'pap', 'tar', 'tawa', 'tit', 'eva', 'om', 'c', 'acrid', 'dual', 'kori', 'saw', 'mesem', 'ram', 'brut', 'neve', 'fool', 'ya', 'caba', 'leg', 'xema', 'trot', 'looter', 'yard', 'gar', 'sa', 'os', 'paler', 'wow', 'redia', 'ae', 'even', 'tic', 'edna', 'daud', 'massa', 'yam', 'sarra', 'now', 'pud', 'eye', 'man', 'em', 'kanap', 'abba', 'tuan', 'ay', 'lab', 'noxa', 'tressed', 'nef', 'oven', 'dig', 'ulema', 'lemel', 'si', 'y', 'deep', 'sey', 'nab', 'pep', 'jar', 'dol', 'pam', 'egol', 'tunk', 'repen', 'wey', 'morbid', 'tonk', 'tyt', 'welf', 'tst', 'tinker', 'apart', 'lag', 'teel', 'repel', 'bray', 'kral', 'romane', 'noil', 'q', 'absi', 'kitab', 'neti', 'time', 'dimit', 'knut', 'aha', 'reef', 'araca', 'ler', 'gim', 'cure', 'ned', 'nevo', 'mah', 'neep', 'sea', 'tenet', 'fled', 'rial', 'tat', 'nonet', 'seel', 'tod', 'pat', 'keek', 'oh', 'adinida', 'emim', 'kos', 'senones', 'dags', 'refer', 'drab', 'otto', 'ama', 'teda', 'noon', 'tal', 'olid', 'dole', 'mu', 'lasso', 'manes', 'tha', 'lief', 'reen', 'moy', 'dub', 'tib', 'w', 'wots', 'mac', 'peed', 'reknit', 'siol', 'apa', 'hah', 'linus', 'dinar', 'dim', 'seta', 'baw', 'pen', 'rever', 'naid', 'oto', 'mob', 'rea', 'gnat', 'gaj', 'bub', 'kasa', 'tag', 'trub', 'tip', 'strad', 'detar', 'kra', 'edo', 'pacer', 'acca', 'laud', 'poop', 'mime', 'sid', 'bus', 'in', 'lood', 'led', 'biga', 'amaroid', 'if', 'eme', 'nor', 'sawt', 'bom', 'amla', 'nasus', 'notice', 'timed', 'ba', 'trig', 'cor', 'put', 'tig', 'sark', 'dum', 'ar', 'knar', 'dod', 'ohm', 'plug', 'nana', 'gur', 'yaw', 'yad', 'ow', 'wort', 'g', 'rog', 'agger', 'tebbet', 'alga', 'ra', 'ka', 'remeet', 'wob', 'bog', 'lima', 'pip', 'amapa', 'my', 'darter', 'namaz', 'troper', 'enam', 'lit', 'levir', 'eel', 'aga', 'dopa', 'dom', 'girt', 'arum', 'knit', 'peep', 'nip', 'aba', 'rubor', 'rewarder', 'anay', 'avo', 'bad', 'garb', 'bon', 'dine', 'amunam', 'reflow', 'elle', 'minim', 'og', 'ande', 'stab', 'dah', 'b', 'may', 'elbert', 'apama', 'spot', 'ella', 'aracana', 'makah', 'brog', 'ti', 'nit', 'gip', 'seg', 'hay', 'burd', 'rebut', 'din', 'yoy', 'eh', 'zag', 'marc', 'sew', 'roy', 'bam', 'na', 'mats', 'amir', 'aryl', 'gaw', 'atip', 'repot', 'irok', 'eria', 'aute', 'ave', 'venator', 'brag', 'dow', 'dab', 'decal', 'retrad', 'namer', 'regga', 'bird', 'mane', 'lee', 'amex', 'yana', 'sagra', 'retag', 'di', 'go', 'bard', 'pod', 'wen', 'mot', 'pad', 'mus', 'kakkak', 'morga', 'reis', 'gulp', 'mood', 'ras', 'yon', 'ad', 'sar', 'woy', 'sub', 'diorama', 'gangan', 'rohan', 'peel', 'plap', 'yow', 'rep', 'pah', 'or', 'susan', 'pol', 'ok', 'do', 'nayar', 'adar', 'air', 'teer', 'reed', 'sum', 'recap', 'sail', 'lin', 'neet', 'eer', 'talc', 'agar', 'enema', 'deedeed', 'la', 'tort', 'barb', 'dada', 'ara', 'n', 'tebet', 'yar', 'gib', 'paw', 'ata', 'gif', 'rima', 'hart', 'iron', 'cal', 'gog', 'gnar', 'senam', 'bohor', 'tu', 'pulp', 'id', 'argas', 'lime', 'dieb', 'got', 'cabob', 'lived', 'v', 'bara', 'ger', 'aka', 'harris', 'ako', 'lot', 'decap', 'ami', 'dor', 'deem', 'trader', 'foots', 'jag', 'remit', 'gol', 'toom', 'door', 'yerb', 'ta', 'on', 'reman', 'deer', 'nabal', 'lees', 'pank', 'tanak', 'tang', 'log', 'deg', 'yat', 'prat', 'wolfer', 'flow', 'loom', 'delf', 'asak', 'saim', 'doom', 'uru', 'raw', 'rus', 'rosa', 'dud', 'wan', 'utu', 'kran', 'git', 'dop', 'sloom', 'redraw', 'roc', 'neer', 'yas', 'spec', 'anana', 'rang', 'daer', 'naut', 'nagnag', 'agust', 'eros', 'dola', 'ark', 'wo', 'artamus', 'tao', 'kazak', 'tuber', 'sore', 'peen', 'tup', 'redoom', 'tew', 'nevoy', 'maam', 'sal', 'meter', 'f', 'keep', 'leep', 'z', 'leveler', 'lean', 'ham', 'up', 'amelu', 'rail', 'mag', 'affa', 'allium', 'tam', 'wone', 'burg', 'her', 'e', 'duad', 'mop', 'wang', 'ululu', 'tut', 'bis', 'gater', 'sok', 'hap', 'par', 'das', 'sirrah', 'tae', 'madam', 'ova', 'ber', 'malayalam', 'redder', 'reg', 'recart', 'leer', 'yaray', 'redden', 'dit', 'lad', 'toy', 'dis', 'bulb', 'lis', 'pin', 'dup', 'rama', 'ulu', 'agrom', 'mura', 'teal', 'enamor', 'nam', 'mum', 'ima', 'yoven', 'kelek', 'wem', 'demit', 'nael', 'rank', 'mools', 'kedar', 'haya', 'lug', 'ates', 'knob', 'sad', 'kayak', 'dam', 'annam', 'rerob', 'apus', 'meg', 'nye', 'yak', 'well', 'nedder', 'ala', 'tin', 'ayah', 'wad', 'eat', 'dew', 'da', 'am', 'ten', 'anis', 'lira', 'daw', 'amene', 'loop', 'non', 'lim', 'toot', 'ea', 'wa', 'bas', 'not', 'retin', 'rim', 'panak', 'atis', 'soc', 'sisi', 'kan', 'bood', 'stam', 'flog', 'tide', 'bunk', 'ate', 'dog', 'abas', 'he', 'tub', 'lina', 'dial', 'huh', 'retool', 'dib', 'gurt', 'bow', 'rotanev', 'kip', 'ban', 'brey', 'kras', 'mud', 'ben', 'level', 'naim', 'timo', 'gad', 'ut', 'drawer', 'ume', 'bob', 'hoped', 'eta', 'atap', 'yalb', 'prod', 'mat', 'neil', 'mad', 'mana', 'kassak', 'cram', 'amil', 'nep', 'niter', 'sam', 'sil', 'boob', 'nema', 'wed', 'yor', 'laet', 'aria', 'edit', 'aira', 'noy', 'murdrum', 'lac', 'knub', 'kanat', 'tow', 'reviver', 'rotor', 'alod', 'lod', 'ko', 'muilla', 'ada', 'al', 'treble', 'nib', 'loge', 'asor', 'mo', 'amos', 'rivel', 'nat', 'lwo', 'klop', 'spole', 'eke', 'new', 'ere', 'repaper', 't', 'arara', 'farad', 'lam', 'es', 'bal', 'yalla', 'rebus', 'awa', 'anon', 'reid', 'pup', 'del', 'alala', 'apod', 'amaga', 'lark', 'lever', 'mho', 'fine', 'nahor', 'word', 'aw', 'nap', 'emit', 'polk', 'camus', 'raja', 'at']\n"
     ]
    }
   ],
   "source": [
    "wordlist=open(r\"C:\\Users\\grays\\OneDrive - University of Ottawa\\VS Code\\ITI 1120\\LECTURES\\dictionary\").read().lower().split()\n",
    "def palindrome(words):\n",
    "    '''\n",
    "    str -> list\n",
    "    Takes a list of words and returns a list of palindromes (words that are the same backwards and forwards).\n",
    "    '''\n",
    "    pal=[]  # (load = O(1))\n",
    "    for word in words:  # (load = O(n))\n",
    "        if word==word[::-1]:    # (load = O(n))\n",
    "            pal.append(word)    # (load = O(n))\n",
    "    return pal  # (load = O(1))\n",
    "# load = 1 + 3n + 1 = O(n)\n",
    "\n",
    "def anadrome(words):\n",
    "    '''\n",
    "    str --> list\n",
    "    Takes a list of words and returns a list of anadromes (words that spelt backwards are a different word).\n",
    "    '''\n",
    "    ana=[]  # (load = O(1))\n",
    "    for word in words:  # (load = O(n))\n",
    "        if word[::-1] in words: # (load = O(n^2))\n",
    "            ana.append(word)    # (load = O(n))\n",
    "    return ana  # (load = O(1))\n",
    "# load = 1 + n + n^2 +n + 1 = O(n^2)\n",
    "\n",
    "def anadrome_via_sets(words):\n",
    "    ana=[]  # (load = O(1))\n",
    "    words=set(words)\n",
    "    for word in words:  # (load = O(n))\n",
    "        if word[::-1] in words: # (load = O(n))\n",
    "            ana.append(word)    # (load = O(n))\n",
    "    return ana  # (load = O(1))\n",
    "# load = 1 + n + n + n + 1 = O(n)\n",
    "\n",
    "# main\n",
    "pal=palindrome(wordlist)\n",
    "print(pal)\n",
    "\n",
    "ana=anadrome_via_sets(wordlist)\n",
    "print(ana)"
   ]
  },
  {
   "cell_type": "markdown",
   "metadata": {},
   "source": [
    "Creating a dictionary is done using '{}', whereas an empty set can be created with set()."
   ]
  },
  {
   "cell_type": "code",
   "execution_count": 10,
   "metadata": {},
   "outputs": [
    {
     "data": {
      "text/plain": [
       "set"
      ]
     },
     "execution_count": 10,
     "metadata": {},
     "output_type": "execute_result"
    }
   ],
   "source": [
    "d={}\n",
    "type(d)\n",
    "s=set()\n",
    "type(s)"
   ]
  },
  {
   "cell_type": "markdown",
   "metadata": {},
   "source": [
    "The following code generates a dictionary containing a key starting at *300349204* with pair *'Patrick'*."
   ]
  },
  {
   "cell_type": "code",
   "execution_count": 11,
   "metadata": {},
   "outputs": [
    {
     "data": {
      "text/plain": [
       "{300349204: 'Patrick'}"
      ]
     },
     "execution_count": 11,
     "metadata": {},
     "output_type": "execute_result"
    }
   ],
   "source": [
    "d={}\n",
    "d[300349204]=\"Patrick\"\n",
    "d"
   ]
  },
  {
   "cell_type": "markdown",
   "metadata": {},
   "source": [
    "The following code is an example of how a dictionary can be created to store a compilation of words and how many times they occur in a given string."
   ]
  },
  {
   "cell_type": "code",
   "execution_count": null,
   "metadata": {},
   "outputs": [],
   "source": [
    "def frequency_via_dict(book):\n",
    "    f={}\n",
    "    for word in book:\n",
    "        if word in f:\n",
    "            f[word]+=1\n",
    "        else:\n",
    "            f[word]=1"
   ]
  }
 ],
 "metadata": {
  "kernelspec": {
   "display_name": "Python 3",
   "language": "python",
   "name": "python3"
  },
  "language_info": {
   "codemirror_mode": {
    "name": "ipython",
    "version": 3
   },
   "file_extension": ".py",
   "mimetype": "text/x-python",
   "name": "python",
   "nbconvert_exporter": "python",
   "pygments_lexer": "ipython3",
   "version": "3.12.0"
  }
 },
 "nbformat": 4,
 "nbformat_minor": 2
}
