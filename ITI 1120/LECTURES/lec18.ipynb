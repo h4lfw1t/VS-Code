{
 "cells": [
  {
   "cell_type": "markdown",
   "metadata": {},
   "source": [
    "# Lec 18 Notes\n",
    "## Objects\n",
    "\n",
    "### What Data Types Have We Seen So Far?\n",
    "\n",
    "Up to this point, we have use integers(int), floats(float),strings(str), lists(list), booleans(bool), sets(set), dictionaries(dict), tuples(tuple), and NoneType.\n",
    "\n",
    "These are all built-in data types native to Python.\n",
    "A non-native data type we have seen is turtle; a data type imported using import.turtle.\n",
    "\n",
    "So how can we make our own data types? And why would we want to do so?\n",
    "\n",
    "Suppose you want to represent n points on a plane. Imagine what pieces of data you need to represent a single, unique point? Naturally, you should come to the realization that you need both an *x* and a *y* coordinate as seperate pieces of data to represent the unique location of a point in a two-dimensional plane. Another way to represent the same point would be using the *distance from the origin (c)* and the *angle* the *c* makes with the horizontal *x*-axis. In both cases, two specific pieces of data are required; you cannot have the unique point without both pieces of data.\n",
    "\n",
    "Using *x* and *y* to represent the location of a point in 2-D, using built-in data types, these would likely be stored in a matrix such that p[i][j] would represent a point *i* where its *x* coordinate is p[i][0] and its *y* coordinate is p[i][1].\n",
    "\n",
    "How could you create a more simple way to store these unique points? By creating a specific data type that stores points.\n"
   ]
  },
  {
   "cell_type": "code",
   "execution_count": null,
   "metadata": {},
   "outputs": [],
   "source": [
    "class Point:\n",
    "    def __init__(self, x, y):\n",
    "        self.x = x\n",
    "        self.y = y"
   ]
  },
  {
   "cell_type": "markdown",
   "metadata": {},
   "source": [
    "Etiquette dictates that when defining a new class, it should always start with a captial letter. Furthermore, the first variable indicated in the ___init___() function should be *self*."
   ]
  },
  {
   "cell_type": "code",
   "execution_count": 3,
   "metadata": {},
   "outputs": [
    {
     "name": "stdout",
     "output_type": "stream",
     "text": [
      "2\n",
      "3\n"
     ]
    }
   ],
   "source": [
    "class Point:\n",
    "    def __init__(self, x, y):\n",
    "        self.x = x\n",
    "        self.y = y\n",
    "\n",
    "p=Point(2,3)\n",
    "print(p.x)\n",
    "print(p.y)"
   ]
  },
  {
   "cell_type": "markdown",
   "metadata": {},
   "source": [
    "The __init__() function is the function that actually creates data for the class to use. It is the function that is called when you create a new instance of the class. It is also the function that is called when you call the class name with the parentheses. For example, if you have a class called *Point*, you can create a new instance of the class by calling *Point()*. This will call the __init__() function and create a new instance of the class.\n",
    "\n",
    "The __init__() function is also where you define the variables that will be used by the class. In the case of the *Point* class, you would define the variables *x* and *y*.\n",
    "\n",
    "When *Point* is called, python looks for class Point. If it doesn't exist, creates it. If it does exist, uses it. It then initializes the __init__ function, which creates the variables *x* and *y*. It then returns the new instance of the class.\n",
    "\n",
    "When defining the variables of __init__, default values can be assigned so when no data is give, data still exits. For example, if you want to create a class called *Point* that has variables *x* and *y*, you could define the class as follows:\n"
   ]
  },
  {
   "cell_type": "code",
   "execution_count": 5,
   "metadata": {},
   "outputs": [
    {
     "name": "stdout",
     "output_type": "stream",
     "text": [
      "0\n",
      "0\n"
     ]
    }
   ],
   "source": [
    "class Point:\n",
    "    def __init__(self, x=0, y=0):\n",
    "        self.x = x\n",
    "        self.y = y\n",
    "\n",
    "p=Point()\n",
    "print(p.x)\n",
    "print(p.y)"
   ]
  },
  {
   "cell_type": "markdown",
   "metadata": {},
   "source": [
    "The above code defines the class *Point* at *p* with no given data as variables. Thus, *p* has values *p.x* and *p.y* that are both equal to 0 as this was set as the default value.\n",
    "\n",
    "As follows, you can add functions similar to the ones already seen in class to manipulate the data of the class. For example, you could add a function to move the point by a given amount in the x and y directions. This function would look like:"
   ]
  },
  {
   "cell_type": "code",
   "execution_count": 13,
   "metadata": {},
   "outputs": [
    {
     "name": "stdout",
     "output_type": "stream",
     "text": [
      "2\n",
      "3\n"
     ]
    }
   ],
   "source": [
    "class Point:\n",
    "    def __init__(self, x=0, y=0):\n",
    "        self.x = x\n",
    "        self.y = y\n",
    "    def move(self, dx, dy):\n",
    "        self.x += dx\n",
    "        self.y += dy\n",
    "\n",
    "p=Point()\n",
    "p.move(2,3)\n",
    "print(p.x)\n",
    "print(p.y)"
   ]
  }
 ],
 "metadata": {
  "kernelspec": {
   "display_name": "Python 3",
   "language": "python",
   "name": "python3"
  },
  "language_info": {
   "codemirror_mode": {
    "name": "ipython",
    "version": 3
   },
   "file_extension": ".py",
   "mimetype": "text/x-python",
   "name": "python",
   "nbconvert_exporter": "python",
   "pygments_lexer": "ipython3",
   "version": "3.12.0"
  }
 },
 "nbformat": 4,
 "nbformat_minor": 2
}
