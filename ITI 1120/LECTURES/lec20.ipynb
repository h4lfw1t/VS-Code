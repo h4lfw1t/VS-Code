{
 "cells": [
  {
   "cell_type": "markdown",
   "metadata": {},
   "source": [
    "# Lecture 20\n",
    "## Finishing Objects\n"
   ]
  },
  {
   "cell_type": "code",
   "execution_count": null,
   "metadata": {},
   "outputs": [],
   "source": [
    "class Animal:\n",
    "    def __init__(self,species='animal',language='make sounds'):\n",
    "        self.spec=species\n",
    "        self.lang=language\n",
    "        \n",
    "    def print_info(self.spec,self.lang):\n",
    "        print('I am a',self.spec,'and I',self.lang)\n",
    "    \n",
    "    def __repr__(self):\n",
    "        return 'Animal(\\''+self.spec+'\\',\\''+self.lang+'\\')'\n",
    "    def __str__(self):\n",
    "        return 'I am a '+self.spec+' and I '+self.lang"
   ]
  },
  {
   "cell_type": "markdown",
   "metadata": {},
   "source": [
    "### So what did we learn today?\n",
    ".\n",
    ".\n",
    ".\n",
    ".\n",
    ".\n",
    ".\n",
    "# ABSOLUTLEY FUCKING NOTHING\n",
    "So maybe let's do something else?"
   ]
  },
  {
   "cell_type": "code",
   "execution_count": null,
   "metadata": {},
   "outputs": [],
   "source": [
    "class MyStr(str):\n",
    "    def first_last_same(self):\n",
    "        return self[0]==self[-1]"
   ]
  },
  {
   "cell_type": "markdown",
   "metadata": {},
   "source": [
    "## AHAHAHA FUCK THAT"
   ]
  }
 ],
 "metadata": {
  "language_info": {
   "name": "python"
  }
 },
 "nbformat": 4,
 "nbformat_minor": 2
}
