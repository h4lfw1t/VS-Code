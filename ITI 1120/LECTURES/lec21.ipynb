{
 "cells": [
  {
   "cell_type": "markdown",
   "metadata": {},
   "source": [
    "# Lec 21\n",
    "## Recursion\n",
    "\n",
    "Recursion is a technique for solving problems where the solution to a particular problem depends on the solution to a smaller instance of the same problem. In python, this means that a function calls itself.\n",
    "Observe the following funtion. It initially prints the number 'n' and then calls itself with the value of 'n-1'. This continues until the value of 'n' becomes greater than the allowed recursion depth, meaning it will try to approach negative infinity until it crashes.\n",
    "\n",
    "```python\n",
    "        def recurse(n):\n",
    "            print(n)\n",
    "            recurse(n-1)\n",
    "```\n",
    "\n",
    "### Notes on Visualizers\n",
    "When obeserving a visulaizer, notice that there are two columns; in python-tutor's visualizer, the columns are called 'Frames' and 'Objects'. The 'Frames' column shows the function calls and the 'Objects' column shows the variables and their values. The 'Objects' column is the same as the 'Local' column in pythontutor's visualizer. The 'Frames' column is the same as the 'Global' column in pythontutor's visualizer. Generally, the 'Frames' column is more useful for understanding recursion. Conmmon convention usually represents the 'Frames' as a stack, with the most recent function call at the top of the stack. The 'Objects' column, usually referred to as the heap, is useful for understanding the values of variables at each step of the recursion.\n",
    "\n",
    "### Factorials\n",
    "The factorial of a number is the product of all positive integers less than or equal to the number. For example, the factorial of 5 is 5 * 4 * 3 * 2 * 1 = 120. The factorial of 0 is 1. The factorial of a negative number is undefined. The factorial of a number can be defined recursively as follows: the factorial of 0 is 1, and the factorial of any other number is that number times the factorial of the number minus 1. For example, the factorial of 5 is 5 * 4 * 3 * 2 * 1, which is the same as 5 * (4 * 3 * 2 * 1), which is the same as 5 * (4 * (3 * 2 * 1)), which is the same as 5 * (4 * (3 * (2 * 1))), which is the same as 5 * (4 * (3 * 2)), which is the same as 5 * (4 * 6), which is the same as 5 * 24, which is 120.\n",
    "\n",
    "```python\n",
    "        def factorial(n):\n",
    "            if n == 0:\n",
    "                return 1\n",
    "            else:\n",
    "                return n * factorial(n-1)\n",
    "```\n",
    "\n",
    "Notice how recursion provides an easy solution, whereas without recursion, it would be a complicated loop. However, python can only handle a certain amount of recursion depth. If the recursion depth is exceeded, the program will crash. This is because python has to store the information for each function call in memory. If there are too many function calls, the program will run out of memory. The recursion depth can be increased by using the following code:\n",
    "\n",
    "```python\n",
    "        import sys\n",
    "        sys.setrecursionlimit(10000)\n",
    "```\n",
    "We will never use this, but thanks co-pilot."
   ]
  }
 ],
 "metadata": {
  "language_info": {
   "name": "python"
  }
 },
 "nbformat": 4,
 "nbformat_minor": 2
}
