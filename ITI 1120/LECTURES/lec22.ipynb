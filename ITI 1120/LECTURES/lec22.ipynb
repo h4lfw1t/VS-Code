{
 "cells": [
  {
   "cell_type": "markdown",
   "metadata": {},
   "source": [
    "# Lecture 22\n",
    "## Power Sets and Recursion\n",
    "\n",
    "A power set is a set containing all subsets of a given set. For example, the power set of $\\{1,2,3\\}$ is $\\{\\emptyset, \\{1\\}, \\{2\\}, \\{3\\}, \\{1,2\\}, \\{1,3\\}, \\{2,3\\}, \\{1,2,3\\}\\}$."
   ]
  },
  {
   "cell_type": "code",
   "execution_count": null,
   "metadata": {},
   "outputs": [],
   "source": [
    "def power_set(a):\n",
    "    '''\n",
    "    (list) -> 2D list\n",
    "    >>> power_set([1,2,3])\n",
    "    [[], [1], [2], [3], [1, 2], [1, 3], [2, 3], [1, 2, 3]]\n",
    "    >>> power_set([1,2,3,4])\n",
    "    [[], [1], [2], [3], [4], [1, 2], [1, 3], [1, 4], [2, 3], [2, 4], [3, 4], [1, 2, 3], [1, 2, 4], [1, 3, 4], [2, 3, 4], [1, 2, 3, 4]]\n",
    "    '''\n",
    "    \n",
    "    if len(a)==0:\n",
    "        return [[]]\n",
    "    elif len(a)==1:\n",
    "        return [[], a]\n",
    "    \n",
    "    pps = power_set(a[1:]) # pps = power set of a[1:]\n",
    "    fps = pps[:] # fps = final power set\n",
    "    for i in pps:\n",
    "        fps.append([a[0]]+i)\n",
    "    return fps"
   ]
  },
  {
   "cell_type": "code",
   "execution_count": null,
   "metadata": {},
   "outputs": [],
   "source": [
    "def mypow(x,n):\n",
    "    '''\n",
    "    (number, number) -> number\n",
    "    '''\n",
    "    \n",
    "    if n==0:\n",
    "        return 1\n",
    "    elif n==1:\n",
    "        return x\n",
    "    elif n>0 and n%2==0:\n",
    "        return mypow(x, n//2) * mypow(x, n//2) #x*mypow(x,n-1)\n",
    "    else:\n",
    "        return x*mypow(x, n//2) * mypow(x, n//2)\n",
    "    # elif n<0 and n%2==0:\n",
    "    #     return (1/x)*mypow(x,n+1)\n",
    "    "
   ]
  }
 ],
 "metadata": {
  "language_info": {
   "name": "python"
  }
 },
 "nbformat": 4,
 "nbformat_minor": 2
}
