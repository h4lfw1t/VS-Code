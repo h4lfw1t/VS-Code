{
 "cells": [
  {
   "cell_type": "markdown",
   "metadata": {},
   "source": [
    "# Lecture 23\n",
    "## Efficient Sorting\n",
    "\n",
    "Selection sorting is a simple sorting algorithm that works by repeatedly finding the minimum element from unsorted part and putting it at the beginning. The algorithm maintains two subarrays in a given array.\n",
    "Merge sorting is a divide and conquer algorithm that divides the input array into as many lists as there are elements. It then pairs elements and compares them, putting them in order. The algorithm repeats this process until there is only one lists remaining.\n",
    "    Ex:\n",
    "        [2, 3, 5, 7]\n",
    "        [2] [3] [5] [7]\n",
    "        [3, 7] [2, 5]\n",
    "        [2] [3, 7] [5]\n",
    "        [2,3] [7] [5]\n",
    "        [2, 3, 5] [7]\n",
    "        [2, 3, 5, 7]\n",
    "\n"
   ]
  },
  {
   "cell_type": "code",
   "execution_count": 5,
   "metadata": {},
   "outputs": [
    {
     "data": {
      "text/plain": [
       "[2, 3, 5, 7]"
      ]
     },
     "execution_count": 5,
     "metadata": {},
     "output_type": "execute_result"
    }
   ],
   "source": [
    "def selection_sort(L):\n",
    "    '''sorts given list L'''\n",
    "    for i in range(len(L)-1):\n",
    "        # Find the minimum item in L[i:]\n",
    "        min_index=i\n",
    "        for j in range(i+1,len(L)):\n",
    "            if (L[min_index]>L[j]):\n",
    "                min_index=j\n",
    "        # Swap the minimum item to the front of L[i:]\n",
    "        L[i],L[min_index]=L[min_index],L[i]\n",
    "    return L\n",
    "\n",
    "selection_sort([7,3,5,2])"
   ]
  },
  {
   "cell_type": "code",
   "execution_count": 6,
   "metadata": {},
   "outputs": [
    {
     "data": {
      "text/plain": [
       "[2, 3, 5, 7]"
      ]
     },
     "execution_count": 6,
     "metadata": {},
     "output_type": "execute_result"
    }
   ],
   "source": [
    "import random\n",
    "def qs(L):\n",
    "    if len(L)==0:\n",
    "        return []\n",
    "    x = random.choice(L)\n",
    "    lt = []\n",
    "    eq = []\n",
    "    gt = []\n",
    "    for item in L:\n",
    "        if item < x:\n",
    "            lt.append(item)\n",
    "        elif item > x:\n",
    "            gt.append(item)\n",
    "        else:\n",
    "            eq.append(item)\n",
    "    return qs(lt) + eq + qs(gt)\n",
    "\n",
    "def merge_sort(L):\n",
    "    if len(L)<=1:\n",
    "        return L[:]\n",
    "    \n",
    "    middle = len(L)//2\n",
    "    left = merge_sort(L[ : middle])\n",
    "    right = merge_sort(L[middle : ])\n",
    "    return merge(left, right)\n",
    "\n",
    "def merge(L1, L2):\n",
    "    newL = []\n",
    "    i1 = 0\n",
    "    i2 = 0\n",
    "    while i1 != len(L1) and i2 != len(L2):\n",
    "        if L1[i1] < L2[i2]:\n",
    "            newL.append(L1[i1])\n",
    "            i1 += 1\n",
    "        else:\n",
    "            newL.append(L2[i2])\n",
    "            i2 += 1\n",
    "    newL.extend(L1[i1:])\n",
    "    newL.extend(L2[i2:])\n",
    "    return newL\n",
    "\n",
    "merge_sort([7,5,3,2])"
   ]
  }
 ],
 "metadata": {
  "kernelspec": {
   "display_name": "Python 3",
   "language": "python",
   "name": "python3"
  },
  "language_info": {
   "codemirror_mode": {
    "name": "ipython",
    "version": 3
   },
   "file_extension": ".py",
   "mimetype": "text/x-python",
   "name": "python",
   "nbconvert_exporter": "python",
   "pygments_lexer": "ipython3",
   "version": "3.12.0"
  }
 },
 "nbformat": 4,
 "nbformat_minor": 2
}
