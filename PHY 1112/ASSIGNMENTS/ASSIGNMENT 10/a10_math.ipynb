{
 "cells": [
  {
   "cell_type": "markdown",
   "metadata": {},
   "source": [
    "$${my''(t)}+{\\gamma y'(t)}+{ky(t)}= 0$$\n",
    "$$u = y, v = y'$$\n",
    "$$u' = y' = v, v' = y'' = \\frac{\\gamma y'(t)}{m} + \\frac{ky(t)}{m} = \\frac{-\\gamma v - ku}{m}$$\n",
    "$$\\begin{cases} u' = v \\\\ v' = -\\frac{\\gamma v + ku}{m} \\end{cases}$$\n",
    "\n",
    "$${y''(t)}+{0.15\\gamma y'(t)}+{y(t)}= 0$$\n",
    "$$\\begin{cases} u' = v \\\\ v' = -0.15v - u \\end{cases}$$\n",
    "$${f(x, u, v) = \\begin{bmatrix} v \\\\ -0.15v - u \\end{bmatrix}}$$\n",
    "$${g(x, u, v) = \\begin{bmatrix} 0 \\\\ 0 \\end{bmatrix}}$$\n",
    "\n"
   ]
  }
 ],
 "metadata": {
  "language_info": {
   "name": "python"
  }
 },
 "nbformat": 4,
 "nbformat_minor": 2
}
