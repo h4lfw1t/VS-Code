{
 "cells": [
  {
   "cell_type": "code",
   "execution_count": 4,
   "metadata": {},
   "outputs": [],
   "source": [
    "import numpy as np\n",
    "import matplotlib.pyplot as plt"
   ]
  },
  {
   "cell_type": "markdown",
   "metadata": {},
   "source": [
    "# Assignment 11\n",
    "Name: Patrick Geraghty\n",
    "\n",
    "Identification: 300349204\n",
    "\n",
    "Date Created: 2024-04-01\n",
    "\n",
    "Date Modified: 2024-04-01\n",
    "\n"
   ]
  },
  {
   "cell_type": "markdown",
   "metadata": {},
   "source": [
    "## Question 1: Point and Shoot\n",
    "\n",
    "### b)"
   ]
  },
  {
   "cell_type": "code",
   "execution_count": 8,
   "metadata": {},
   "outputs": [
    {
     "name": "stdout",
     "output_type": "stream",
     "text": [
      "0.8660254037844386\n"
     ]
    }
   ],
   "source": [
    "R = 1\n",
    "\n",
    "def quarter_arc(x):\n",
    "    '''\n",
    "    (float) -> float\n",
    "    This function returns the y value of a quarter arc of a circle with radius a predefined radius at x.\n",
    "    Preconditions: 0 <= x <= R\n",
    "    '''\n",
    "    return np.sqrt(1 - (x**2/R**2))\n",
    "\n",
    "print(quarter_arc(0.5))"
   ]
  },
  {
   "cell_type": "markdown",
   "metadata": {},
   "source": [
    "In the above cell is an example of a function that returns the y value of a circle with radius R = 1 (defined as a global variable) at any x value between 0 and R (inclusive). The function, called `quarter_arc`, takes a single argument, `x`, which is the x value at which the y value of the circle is to be calculated. The function returns the y value of the circle at that x value. The function is defined using the equation of a circle, which is given by:\n",
    "\n",
    "$$\n",
    "y = \\sqrt{1 - \\frac{x^2}{R^2}}\n",
    "\n",
    "$$\n",
    "\n",
    "where \\(R\\) is the radius of the circle and \\(x\\) is the x value at which the y value is to be calculated. The function is defined using the `numpy` module, which is imported at the beginning of the code. The function is then called with an argument of 0.5, which is the x value at which the y value of the circle is to be calculated. The result is then printed to the console."
   ]
  },
  {
   "cell_type": "markdown",
   "metadata": {},
   "source": [
    "### c)\n",
    "\n",
    "A Monte-Carlo integration by rejection is an algorithm that can be used to estimate the area of a region by randomly sampling points within the region and counting the number of points that fall within the region. The algorithm works by generating random points within a bounding box that encloses the region of interest and then checking if each point falls within the region. If a point falls within the region, it is counted as a hit, and if it falls outside the region, it is counted as a miss. The ratio of hits to total points is then used to estimate the area of the region.\n",
    "Brkoen down into steps, the algorithm is as follows:\n",
    "\n",
    "1. Define a bounding box that encloses the region of interest.\n",
    "2. Generate a random point within the bounding box.\n",
    "3. Check if the point falls within the region of interest.\n",
    "4. If the point falls within the region, count it as a hit.\n",
    "5. Repeat steps 2-4 for a large number of points.\n",
    "6. Estimate the area of the region by calculating the ratio of hits to total points and multiplying by the area of the bounding box.\n",
    "\n",
    "A function for the Monte-Carlo integration by rejection algorithm can be defined as follows:\n",
    "\n",
    "### d)"
   ]
  },
  {
   "cell_type": "code",
   "execution_count": 14,
   "metadata": {},
   "outputs": [],
   "source": [
    "def monte_carlo_rejection_integration(f, a, b, N):\n",
    "    '''\n",
    "    (function, float, float, int) -> float\n",
    "    This function returns the integral of the function f over the interval [a, b] using the Monte Carlo method with rejection.\n",
    "    Preconditions: The function f is non-negative and continuous over the interval [a, b].\n",
    "    '''\n",
    "    # Initialize the variables\n",
    "    integral = 0\n",
    "    count = 0\n",
    "    H = np.max([f(np.random.uniform(a, b)) for _ in range(1000)])\n",
    "    # Generate a random x in the interval [a, b]\n",
    "    x = np.random.uniform(a, b, N)\n",
    "    # Generate a random y in the interval [0, H]\n",
    "    y = np.random.uniform(0, H, N)\n",
    "    # If y is less than f(x), increment the count\n",
    "    count = np.sum(y < f(x))\n",
    "    y_prime = np.where(y < f(x), y, np.nan)\n",
    "    x_prime = np.where(y < f(x), x, np.nan)\n",
    "    \n",
    "    x_prime = x_prime[~np.isnan(x_prime)]\n",
    "    y_prime = y_prime[~np.isnan(y_prime)]\n",
    "    \n",
    "    # print(x_prime)\n",
    "    # print(y_prime)\n",
    "    return (b - a) * H * count / N"
   ]
  },
  {
   "cell_type": "markdown",
   "metadata": {},
   "source": [
    "### e)\n",
    "\n",
    "To integrate the quarter circle, we can use the following steps:\n",
    "\n",
    "1. Define a bounding box that encloses the quarter circle.\n",
    "2. Generate a random point within the bounding box.\n",
    "3. Check if the point falls within the quarter circle.\n",
    "4. If the point falls within the quarter circle, count it as a hit.\n",
    "5. Repeat steps 2-4 for a large number of points.\n",
    "6. Estimate the area of the quarter circle by calculating the ratio of hits to total points and multiplying by the area of the bounding box.\n",
    "\n",
    "We can isolate $$\\pi$$ from the equation for the quarter circle area:\n",
    "\n",
    "$$\n",
    "A = \\frac{\\pi R^2}{4}\n",
    "$$\n",
    "\n",
    "$$\n",
    "\\pi = \\frac{4A}{R^2}\n",
    "$$\n",
    "\n",
    "where \\(A\\) is the estimated area of the quarter circle and \\(R\\) is the radius of the circle.\n",
    "\n",
    "### f)"
   ]
  },
  {
   "cell_type": "code",
   "execution_count": 50,
   "metadata": {},
   "outputs": [
    {
     "name": "stdout",
     "output_type": "stream",
     "text": [
      "N = 10: 0.7999996755805627\n",
      "pi = 3.59999851473185 \n",
      "\n",
      "N = 100: 0.8299999896705293\n",
      "pi = 3.159999995088254 \n",
      "\n",
      "N = 1000: 0.7779999952149657\n",
      "pi = 3.0839999964040055 \n",
      "\n",
      "N = 10000: 0.7915999973484974\n",
      "pi = 3.1479998881459355 \n",
      "\n",
      "N = 100000: 0.7834998530730674\n",
      "pi = 3.1419393761911016 \n",
      "\n"
     ]
    }
   ],
   "source": [
    "for i in [10, 100, 1000, 10000, 100000]:\n",
    "    print(f'N = {i}: {monte_carlo_rejection_integration(quarter_arc, 0, R, i)}')\n",
    "    print(f'pi = {4 * monte_carlo_rejection_integration(quarter_arc, 0, R, i) / R**2} \\n')"
   ]
  },
  {
   "cell_type": "markdown",
   "metadata": {},
   "source": [
    "### g)"
   ]
  },
  {
   "cell_type": "code",
   "execution_count": 58,
   "metadata": {},
   "outputs": [
    {
     "data": {
      "image/png": "[encoded data removed]",
      "text/plain": [
       "<Figure size 640x480 with 1 Axes>"
      ]
     },
     "metadata": {},
     "output_type": "display_data"
    }
   ],
   "source": [
    "def pi_plot():\n",
    "    '''\n",
    "    () -> None\n",
    "    This function plots the value of pi as a function of N using the area of a quarter circle found using monte-carlo integration by rejection.\n",
    "    Preconditions: None\n",
    "    '''\n",
    "    # Define the values of N and the value of pi\n",
    "    N = [10, 100, 1000, 10000, 100000]\n",
    "    y = [4 * monte_carlo_rejection_integration(quarter_arc, 0, R, i) / R**2 for i in N]\n",
    "    \n",
    "    # Plot the values of pi as a function of N on a log scale\n",
    "    plt.figure(1)\n",
    "    plt.semilogx(N, y, 'o', label='Value of pi')\n",
    "    # Plot the actual value of pi\n",
    "    plt.axhline(y=np.pi, color='r', linestyle='--', label='Actual value of pi')\n",
    "    # Label the axes and title the plot\n",
    "    plt.xlabel('N')\n",
    "    plt.ylabel('Value of pi')\n",
    "    plt.title('Value of pi as a function of N')\n",
    "    plt.legend()\n",
    "    plt.grid()\n",
    "    plt.show()\n",
    "\n",
    "pi_plot()"
   ]
  },
  {
   "cell_type": "markdown",
   "metadata": {},
   "source": [
    "### h)\n",
    "\n",
    "As is to be expected, the accuracy of the monte-carlo method increases with a greater number of test points (N). However, though the accuracy may increase, it is not always precise. If multiple trials of the graph were to be run, the accuracy of the monte-carlo method would be more apparent; each graph would look very different from the last. This is due to the random nature of the monte-carlo method. The more test points, the more accurate the graph will be, but it will never be perfect."
   ]
  }
 ],
 "metadata": {
  "kernelspec": {
   "display_name": "Python 3",
   "language": "python",
   "name": "python3"
  },
  "language_info": {
   "codemirror_mode": {
    "name": "ipython",
    "version": 3
   },
   "file_extension": ".py",
   "mimetype": "text/x-python",
   "name": "python",
   "nbconvert_exporter": "python",
   "pygments_lexer": "ipython3",
   "version": "3.12.2"
  }
 },
 "nbformat": 4,
 "nbformat_minor": 2
}
