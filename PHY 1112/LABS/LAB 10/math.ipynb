{
 "cells": [
  {
   "cell_type": "markdown",
   "metadata": {},
   "source": [
    "$$\\frac{dy}{dx} = \\frac{-y}{x}$$\n",
    "$$\\frac{dy}{-y} = {x}{dx}$$\n",
    "$$\\int \\frac{dy}{-y} = \\int x dx$$\n",
    "$$-ln|y| = \\frac{x^2}{2} + C$$\n",
    "$$ln|y| = -\\frac{x^2}{2} + C$$\n",
    "$$y = e^{-\\frac{x^2}{2} + C}$$\n",
    "$$y = e^{-\\frac{x^2}{2}}e^C$$\n",
    "$$y = Ae^{-\\frac{x^2}{2}}$$\n",
    "$$y(0) = A = 1$$\n",
    "$$y = e^{-\\frac{x^2}{2}}$$\n"
   ]
  }
 ],
 "metadata": {
  "language_info": {
   "name": "python"
  }
 },
 "nbformat": 4,
 "nbformat_minor": 2
}
