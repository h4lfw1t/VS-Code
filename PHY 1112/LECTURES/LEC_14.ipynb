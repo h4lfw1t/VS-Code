{
 "cells": [
  {
   "cell_type": "markdown",
   "metadata": {},
   "source": [
    "# Matrices in Numpy\n",
    "\n",
    "## Introduction\n",
    "In this notebook, we will learn about matrices in Numpy. We will learn how to create matrices, perform operations on them, and solve systems of linear equations using matrices.\n",
    "\n",
    "## Matrix Operations\n",
    "We can perform various operations on matrices such as addition, subtraction, multiplication, and division. We can also find the transpose, inverse, and determinant of a matrix.\n",
    "A matrix is a 2D array of numbers, symbols, or expressions arranged in rows and columns. The size of a matrix is defined by the number of rows and columns it contains. A matrix with m rows and n columns is called an m x n matrix. The element in the i-th row and j-th column of a matrix A is denoted by A[i, j]. Typically, when doing addition and subtraction on an array, numpy will perform the operation element-wise. For example, if we have two 2x2 matrices A and B, then A + B will give us a 2x2 matrix where each element is the sum of the corresponding elements in A and B. The same properties apply to matrices, so we can just use those standard operators to perform these operations. However, multiplying arrays and matrices are not the same. When multiplying an array, numpy multiplies the array element-wise. When multiplying matrices, we must use the np.matmul() function, which will perform proper matrix multiplication. We can also use the @ operator to perform matrix multiplication. The transpose of a matrix is a new matrix whose rows are the columns of the original matrix. We can find the transpose of a matrix using the np.transpose() function. The inverse of a matrix is a new matrix that, when multiplied by the original matrix, gives the identity matrix. We can find the inverse of a matrix using the np.linalg.inv() function. The determinant of a matrix is a scalar value that can be computed from the elements of a square matrix. We can find the determinant of a matrix using the np.linalg.det() function.\n",
    "A useful numpy function is the np.identity() function, which creates an identity matrix of the specified size. Note that the values within the identity matrix will be float values. np.transpose() and np.linalg.inv() functions can be used to find the transpose and inverse of a matrix, respectively. The np.linalg.det() function can be used to find the determinant of a matrix. The np.equal() function can be used to compare two matrices. The np.all() function can be used to check if all elements in a matrix are True. The np.any() function can be used to check if any element in a matrix is True. The np.eye() function can be used to create an identity matrix. In the case of rounding errors, np.round() will round the elements of a matrix to the specified number of decimal places. You can add the diagonal elements of a matrix using np.trace().\n",
    "\n",
    "## Solving Systems of Linear Equations\n",
    "We can use matrices to solve systems of linear equations. A system of linear equations can be represented as a matrix equation. One way to solve a matrix of form Au = b, where A and b are known, we can multiply both sides by the inverse of A such that u = A-1*b. We can also use the np.linalg.solve() function to solve a system of linear equations; this is not the same as multiplying by the inverse. The np.linalg.solve() function takes two arguments: the coefficient matrix and the constant matrix. It returns the solution to the system of linear equations. If the coefficient matrix is singular, the np.linalg.solve() function will raise a LinAlgError. In this case, we can use the np.linalg.lstsq() function to find the least-squares solution to the system of linear equations. The np.linalg.lstsq() function takes two arguments: the coefficient matrix and the constant matrix. It returns the least-squares solution to the system of linear equations. If the coefficient matrix is singular, the np.linalg.lstsq() function will raise a LinAlgError."
   ]
  },
  {
   "cell_type": "code",
   "execution_count": 2,
   "metadata": {},
   "outputs": [
    {
     "name": "stdout",
     "output_type": "stream",
     "text": [
      "[-0.  1.  1.  5.  5.]\n"
     ]
    }
   ],
   "source": [
    "# 2V = I1*(1 Ohm) + I2*(2 Ohm)\n",
    "# 4V = I3*(2 Ohm) + I2*(2 Ohm)                  I1 = I4 + I3 = I2 - I3          0 = I1 - I2 + I3\n",
    "# 5V = I4*(1 Ohm) + I5*(1 Ohm)                  I2 = I1 + I3 = I3 + I4 - I5     0 = I2 - I3 - I4 + I5 X\n",
    "# I2 + I5 = I4 + I3                             I3 = I2 - I1 = I2 + I5 - I4     0 = -I1 + I4 - I5\n",
    "# I1 + I3 = I2                                  I4 = I1 + I5 = I2 + I5 - I3     2 = I1 + 2I2\n",
    "# I4 = I1 + I5                                  I5 = I4 - I1 = I4 + I3 - I2     4 = 2I2 + 2I3\n",
    "#                                                                               5 = I4 + I5\n",
    "#                                                                               \n",
    "\n",
    "import numpy as np\n",
    "\n",
    "A = np.array([[1,-1,1,0,0,],[1,0,0,-1,1],[1,2,0,0,0],[0,2,2,0,0],[0,0,0,0,1]])\n",
    "b = np.array([0,0,2,4,5])\n",
    "\n",
    "u = np.linalg.solve(A,b)\n",
    "\n",
    "print(np.round(u,5))"
   ]
  }
 ],
 "metadata": {
  "kernelspec": {
   "display_name": "Python 3",
   "language": "python",
   "name": "python3"
  },
  "language_info": {
   "codemirror_mode": {
    "name": "ipython",
    "version": 3
   },
   "file_extension": ".py",
   "mimetype": "text/x-python",
   "name": "python",
   "nbconvert_exporter": "python",
   "pygments_lexer": "ipython3",
   "version": "3.12.0"
  }
 },
 "nbformat": 4,
 "nbformat_minor": 2
}
