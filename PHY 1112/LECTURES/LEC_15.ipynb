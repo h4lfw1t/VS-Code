{
 "cells": [
  {
   "cell_type": "markdown",
   "metadata": {},
   "source": [
    "# Eigenvectors ad Eigenvalues\n",
    "\n",
    "## Introduction\n",
    "In linear algebra, we would find the eigenvalues and eigenvectors of a matrix. The eigenvalues and eigenvectors of a matrix are scalars and vectors that satisfy the equation: 0 = [A - λI]v. Where A is a square matrix, λ is the eigenvalue, I is the identity matrix, and v is the eigenvector. The eigenvalues and eigenvectors of a matrix are important because they can be used to solve systems of linear equations, and they are used in many applications such as physics, engineering, and computer science. Note that v is a non-zero vector, and thus det([A - λI]) = 0.\n",
    "\n",
    "Example: Find the eigenvalues and eigenvectors of the matrix A = [[2, √2], [√2, 1]].\n",
    "        0 = det([A - λI]) = det([[2-λ, √2], [√2, 1-λ]]) = (2-λ)(1-λ) - √2*√2 = λ^2 - 3λ\n",
    "        λ = 0, 3\n",
    "        For λ = 0, [A - λI]v = [[2, √2], [√2, 1]]v = 0\n",
    "        v = [1, -√2]\n",
    "        For λ = 3, [A - λI]v = [[-1, √2], [√2, -2]]v = 0\n",
    "        v = [1, √2]\n",
    "\n",
    "        Usually, we normalize the eigenvectors to have a magnitude of 1. Thus, the normalized eigenvectors are:\n",
    "        v1 = [1/√3, -√2/√3]\n",
    "        v2 = [1/√3, √2/√3]\n",
    "\n",
    "## Eigenvectors and Eigenvalues in Python\n",
    "To find the eigenvalues and eigenvectors of a matrix in Python, we can use the numpy library. The numpy library has a function called linalg.eig that can be used to find the eigenvalues and eigenvectors of a matrix. The linalg.eig function returns the eigenvalues and eigenvectors of a matrix as a tuple. The first element of the tuple is an array of the eigenvalues, and the second element of the tuple is a 2D array of the eigenvectors. The eigenvectors are stored as columns in the 2D array. The following code shows how to find the eigenvalues and eigenvectors of a matrix in Python using the numpy library. Note that the eigenvectors are normalized to have a magnitude of 1."
   ]
  },
  {
   "cell_type": "code",
   "execution_count": 2,
   "metadata": {},
   "outputs": [
    {
     "name": "stdout",
     "output_type": "stream",
     "text": [
      "Eigenvalues: [ 3. -0.]\n",
      "Eigenvectors: [[ 0.816 -0.577]\n",
      " [ 0.577  0.816]]\n"
     ]
    }
   ],
   "source": [
    "import numpy as np\n",
    "\n",
    "A = np.array([[2, np.sqrt(2)], [np.sqrt(2), 1]])\n",
    "eigenvalues, eigenvectors = np.linalg.eig(A)\n",
    "eigenvalues = np.round(eigenvalues, 3)      # round to 3 decimal places to avoid floating point errors\n",
    "eigenvectors = np.round(eigenvectors, 3)    # round to 3 decimal places to avoid floating point errors\n",
    "print('Eigenvalues:', eigenvalues)\n",
    "print('Eigenvectors:', eigenvectors)\n"
   ]
  },
  {
   "cell_type": "markdown",
   "metadata": {},
   "source": [
    "One useful application of eigenvalues and eigenvectors is diagonalization. A matrix A can be diagonalized if it has n linearly independent eigenvectors. If A can be diagonalized, then A = PDP^-1, where P is a matrix whose columns are the eigenvectors of A, and D is a diagonal matrix whose diagonal elements are the eigenvalues of A. The following code shows how to diagonalize a matrix in Python using the numpy library. A matrix can be diagonalized using the numpy library by using the linalg.eig function to find the eigenvalues and eigenvectors of the matrix, and then using the numpy library to create the matrix P (matrix of eigenvectors) and the diagonal matrix D (np.diag(eigenvalues))."
   ]
  },
  {
   "cell_type": "code",
   "execution_count": 6,
   "metadata": {},
   "outputs": [
    {
     "name": "stdout",
     "output_type": "stream",
     "text": [
      "Eigenvalues: [ 3. -0.]\n",
      "Eigenvectors: [[ 0.81649658 -0.57735027]\n",
      " [ 0.57735027  0.81649658]]\n",
      "\n",
      "P: [[ 0.81649658 -0.57735027]\n",
      " [ 0.57735027  0.81649658]]\n",
      "\n",
      "D: [[ 3.  0.]\n",
      " [ 0. -0.]]\n",
      "\n",
      "P^(-1): [[ 0.81649658  0.57735027]\n",
      " [-0.57735027  0.81649658]]\n",
      "\n",
      "Diagonalized matrix: [[2.         1.41421356]\n",
      " [1.41421356 1.        ]]\n",
      "\n",
      "A = PDP^(-1) = [[ True  True]\n",
      " [ True  True]]\n"
     ]
    }
   ],
   "source": [
    "import numpy as np\n",
    "\n",
    "# Define the matrix A\n",
    "A = np.array([[2, np.sqrt(2)], [np.sqrt(2), 1]])\n",
    "\n",
    "# Find the eigenvalues and eigenvectors of A\n",
    "eigenvalues, eigenvectors = np.linalg.eig(A)\n",
    "\n",
    "# Round the eigenvalues and eigenvectors to 15 decimal places\n",
    "eigenvalues = np.round(eigenvalues, 15)\n",
    "eigenvectors = np.round(eigenvectors, 15)\n",
    "\n",
    "# Print the eigenvalues and eigenvectors\n",
    "print('Eigenvalues:', eigenvalues)\n",
    "print('Eigenvectors:', eigenvectors)\n",
    "print()\n",
    "\n",
    "# Diagonalize the matrix A\n",
    "P = eigenvectors\n",
    "D = np.diag(eigenvalues)\n",
    "P_inverse = np.linalg.inv(P)\n",
    "A_diagonalized = np.dot(np.dot(P, D), np.linalg.inv(P))\n",
    "print('P:', P)\n",
    "print()\n",
    "print('D:', D)\n",
    "print()\n",
    "print('P^(-1):', P_inverse)\n",
    "print()\n",
    "print('Diagonalized matrix:', A_diagonalized)\n",
    "print()\n",
    "\n",
    "print(f'A = PDP^(-1) = {np.matmul(np.matmul(P,D),P_inverse) == A_diagonalized}')"
   ]
  },
  {
   "cell_type": "code",
   "execution_count": 17,
   "metadata": {},
   "outputs": [
    {
     "name": "stdout",
     "output_type": "stream",
     "text": [
      "A^6: [[486.         343.65389566]\n",
      " [343.65389566 243.        ]]\n",
      "\n",
      "Diagonalized A^6: [[486.         343.65389566]\n",
      " [343.65389566 243.        ]]\n"
     ]
    }
   ],
   "source": [
    "# Calculate A^6 = PD^6P^(-1) for A = [[2, np.sqrt(2)], [np.sqrt(2), 1]]\n",
    "\n",
    "import numpy as np\n",
    "\n",
    "# Define the matrix A\n",
    "A = np.array([[2, np.sqrt(2)], [np.sqrt(2), 1]])\n",
    "\n",
    "# Find the eigenvalues and eigenvectors of A\n",
    "eigenvalues, eigenvectors = np.linalg.eig(A)\n",
    "\n",
    "# Round the eigenvalues and eigenvectors to 15 decimal places\n",
    "eigenvalues = np.round(eigenvalues, 15)\n",
    "eigenvectors = np.round(eigenvectors, 15)\n",
    "\n",
    "# Diagonalize the matrix A\n",
    "P = eigenvectors\n",
    "D = np.diag(eigenvalues)\n",
    "P_inverse = np.linalg.inv(P)\n",
    "A_diagonalized = np.dot(np.dot(P, D), np.linalg.inv(P))\n",
    "\n",
    "# Find A^6\n",
    "A_to_6 = np.linalg.matrix_power(A, 6)\n",
    "A_diagonalized_to_6 = np.dot(np.dot(P, D**6), P_inverse)\n",
    "\n",
    "# Print A^6 and A_diagonalized^6\n",
    "print('A^6:', np.round(A_to_6,10))\n",
    "print()\n",
    "print('Diagonalized A^6:', np.round(A_diagonalized_to_6,10))"
   ]
  },
  {
   "cell_type": "code",
   "execution_count": 18,
   "metadata": {},
   "outputs": [
    {
     "name": "stdout",
     "output_type": "stream",
     "text": [
      "Determinant of A: -0.0\n",
      "Product of eigenvalues: -0.0\n"
     ]
    }
   ],
   "source": [
    "# Find det(A) = det(D) for A = [[2, np.sqrt(2)], [np.sqrt(2), 1]]\n",
    "\n",
    "import numpy as np\n",
    "\n",
    "# Define the matrix A\n",
    "A = np.array([[2, np.sqrt(2)], [np.sqrt(2), 1]])\n",
    "\n",
    "# Find the eigenvalues and eigenvectors of A\n",
    "eigenvalues, eigenvectors = np.linalg.eig(A)\n",
    "\n",
    "# Round the eigenvalues and eigenvectors to 15 decimal places\n",
    "eigenvalues = np.round(eigenvalues, 15)\n",
    "eigenvectors = np.round(eigenvectors, 15)\n",
    "\n",
    "# Diagonalize the matrix A\n",
    "P = eigenvectors\n",
    "D = np.diag(eigenvalues)\n",
    "P_inverse = np.linalg.inv(P)\n",
    "A_diagonalized = np.dot(np.dot(P, D), np.linalg.inv(P))\n",
    "\n",
    "det_a = np.linalg.det(A)\n",
    "det_a_test = np.prod(eigenvalues)\n",
    "\n",
    "print('Determinant of A:', np.round(det_a,10))\n",
    "print('Product of eigenvalues:', det_a_test)"
   ]
  },
  {
   "cell_type": "markdown",
   "metadata": {},
   "source": [
    "Recall that eigenvectors, eigenvalues, and matrices can have complex values. The numpy library can handle complex numbers, and the linalg.eig function can be used to find the eigenvalues and eigenvectors of a matrix with complex values. The following code shows how to find the eigenvalues and eigenvectors of a matrix with complex values in Python using the numpy library."
   ]
  },
  {
   "cell_type": "code",
   "execution_count": 24,
   "metadata": {},
   "outputs": [
    {
     "name": "stdout",
     "output_type": "stream",
     "text": [
      "Eigenvalues: [1.+1.41421356j 1.-1.41421356j]\n",
      "Eigenvectors: [[0.81649658+0.j         0.81649658-0.j        ]\n",
      " [0.        +0.57735027j 0.        -0.57735027j]]\n",
      "A =  [[ 1  2]\n",
      " [-1  1]]\n",
      "A_test =  [[ 1.+0.j  2.+0.j]\n",
      " [-1.+0.j  1.-0.j]]\n",
      "u =  [-1.-0.j  1.-0.j]\n"
     ]
    }
   ],
   "source": [
    "# Find the eigenvalues and eigenvectors of A = [[1,2],[-1,1]]\n",
    "import numpy as np\n",
    "\n",
    "# Define the matrix A\n",
    "A = np.array([[1, 2], [-1, 1]])\n",
    "\n",
    "# Find the eigenvalues and eigenvectors of A\n",
    "eigenvalues, eigenvectors = np.linalg.eig(A)\n",
    "\n",
    "print('Eigenvalues:', eigenvalues)\n",
    "print('Eigenvectors:', eigenvectors)\n",
    "\n",
    "# Verify A = PDP^(-1) for A = [[1, 2], [-1, 1]]\n",
    "\n",
    "P = eigenvectors\n",
    "D = np.diag(eigenvalues)\n",
    "P_inverse = np.linalg.inv(P)\n",
    "A_test = np.matmul(np.matmul(P,D),P_inverse)\n",
    "\n",
    "print('A = ', A)\n",
    "print('A_test = ', np.round(A_test, 10))\n",
    "\n",
    "a_diag_inv = np.diag(1/eigenvalues)\n",
    "\n",
    "b = np.array([1,2])\n",
    "u = np.matmul(np.matmul(np.matmul(P, a_diag_inv), P_inverse), b)\n",
    "print('u = ', np.round(u, 10))"
   ]
  },
  {
   "cell_type": "markdown",
   "metadata": {},
   "source": [
    "Hermitian matrices are a special type of matrix that have real eigenvalues and orthogonal eigenvectors. A matrix A is Hermitian if A = A^H, where A^H is the conjugate transpose of A. If A = (A*)^T, then A is Hermitian. Recall that A* is the complex conjugate of A. For an element (a+ib)*, its complex conjugate is (a-ib).\n",
    "Say we have a complex matrix A = [[a0, a1], [a2, a3]], then the matrix is Hermitian if a1 = a2* and a0, a3 are real numbers because (A*)^T = [[a1*, a2*],[a3*,a*]] which must equal A.\n",
    "If A is a real 2x2 matrix, then A is Hermitian if a1 = a2 and a0, a3 are real numbers. In general, a real matrix is Hermitian if it is symmetric.\n",
    "\n",
    "Some important properties of Hermitian matrices are:\n",
    "1. The eigenvalues of a Hermitian matrix are real numbers.\n",
    "2. The eigenvectors of a Hermitian matrix are orthogonal.\n",
    "3. The eigenvectors of a Hermitian matrix can be normalized to have a magnitude of 1.\n",
    "4. A Hermitian matrix can be diagonalized."
   ]
  },
  {
   "cell_type": "code",
   "execution_count": 29,
   "metadata": {},
   "outputs": [
    {
     "name": "stdout",
     "output_type": "stream",
     "text": [
      "Eigenvalues =  [-1.70156212-0.j  4.70156212+0.j]\n",
      "Eigenvectors =  [[ 0.76032025+0.j          0.61621571+0.20540524j]\n",
      " [-0.61621571+0.20540524j  0.76032025+0.j        ]]\n",
      "Dot product of eigenvectors =  (-0+0j)\n"
     ]
    }
   ],
   "source": [
    "# Find the eigenvalues and eigenvectors of A = [[1, 3 + i], [3 - i, 2]]\n",
    "# We know A is Hermitian because a2 = a3* and a1, a4 are real numbers.\n",
    "\n",
    "import numpy as np\n",
    "\n",
    "# Define the matrix A\n",
    "A = np.array([[1, 3 + 1j], [3 - 1j, 2]])\n",
    "\n",
    "# Find the eigenvalues and eigenvectors of A\n",
    "eigenvalues, eigenvectors = np.linalg.eig(A)\n",
    "\n",
    "print('Eigenvalues = ', np.round(eigenvalues, 10))\n",
    "print('Eigenvectors = ', np.round(eigenvectors, 10))\n",
    "\n",
    "# test orthogonality of eigenvectors\n",
    "dot_product = np.dot(eigenvectors[:,0], eigenvectors[:,1])\n",
    "print('Dot product of eigenvectors = ', np.round(dot_product, 0))"
   ]
  }
 ],
 "metadata": {
  "kernelspec": {
   "display_name": "Python 3",
   "language": "python",
   "name": "python3"
  },
  "language_info": {
   "codemirror_mode": {
    "name": "ipython",
    "version": 3
   },
   "file_extension": ".py",
   "mimetype": "text/x-python",
   "name": "python",
   "nbconvert_exporter": "python",
   "pygments_lexer": "ipython3",
   "version": "3.12.0"
  }
 },
 "nbformat": 4,
 "nbformat_minor": 2
}
