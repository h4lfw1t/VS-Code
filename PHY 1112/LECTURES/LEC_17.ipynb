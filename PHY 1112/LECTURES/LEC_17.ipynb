{
 "cells": [
  {
   "cell_type": "markdown",
   "metadata": {},
   "source": [
    "# Numerical Integration\n",
    "\n",
    "## Introduction\n",
    "Numerical integration is a method to approximate the definite integral of a function. The definite integral of a function $f(x)$ over the interval $[a, b]$ is given by the following formula:\n",
    "$$\n",
    "\\int_{a}^{b} f(x) dx = \\lim_{n \\to \\infty} \\sum_{i=1}^{n} f(x_i) \\Delta x\n",
    "$$\n",
    "The definite integral of a function represents the area under the curve of the function over the interval $[a, b]$. The definite integral of a function can be approximated using numerical integration methods. There are several numerical integration methods, such as the trapezoidal rule, Simpson's rule, and Gaussian quadrature. In general, a Riemann sum is used to approximate the definite integral of a function. The Riemann sum is given by the following formula:\n",
    "$$\n",
    "\\sum_{i=1}^{n} f(x_i) \\Delta x\n",
    "$$\n",
    "where $\\Delta x = \\frac{b - a}{n}$ and $x_i = a + i \\Delta x$ for $i = 0, 1, 2, \\ldots, n$. \n",
    "\n",
    "The Riemann sum is the sum of the areas of rectangles that approximate the area under the curve of the function. The Riemann sum can be used to approximate the definite integral of a function using the left endpoint, right endpoint, midpoint, or trapezoidal rule. The left endpoint rule uses the left endpoint of each subinterval to approximate the value of the function. The right endpoint rule uses the right endpoint of each subinterval to approximate the value of the function. The midpoint rule uses the midpoint of each subinterval to approximate the value of the function. The trapezoidal rule uses the left and right endpoints of each subinterval to approximate the value of the function. The trapezoidal rule is given by the following formula:\n",
    "$$\n",
    "\\frac{\\Delta x}{2} \\left[ f(x_0) + 2 f(x_1) + 2 f(x_2) + \\ldots + 2 f(x_{n-1}) + f(x_n) \\right]\n",
    "$$\n",
    "where $\\Delta x = \\frac{b - a}{n}$ and $x_i = a + i \\Delta x$ for $i = 0, 1, 2, \\ldots, n$. \n",
    "\n",
    "The trapezoidal rule is a weighted average of the left and right endpoint rules. The trapezoidal rule is more accurate than the left and right endpoint rules, but less accurate than Simpson's rule and Gaussian quadrature. Simpson's rule uses the left, right, and midpoint of each subinterval to approximate the value of the function. Simpson's rule is given by the following formula:\n",
    "$$\n",
    "\\frac{\\Delta x}{3} \\left[ f(x_0) + 4 f(x_1) + 2 f(x_2) + 4 f(x_3) + \\ldots + 2 f(x_{n-2}) + 4 f(x_{n-1}) + f(x_n) \\right]\n",
    "$$\n",
    "and\n",
    "$$\n",
    "\\sum_{i=1}^{n} (x_i - x_{i-1})f([x_i + x_{i-1}]/2)\n",
    "$$\n",
    "where $\\Delta x = \\frac{b - a}{n}$ and $x_i = a + i \\Delta x$ for $i = 0, 1, 2, \\ldots, n$. The area of each partition of the interval is approximated using the area of a trapezoid such that:\n",
    "$$\n",
    "Area = (b - a) \\left[ f(a) + f(b) \\right] / 2\n",
    "$$\n",
    "where $f(a)$ and $f(b)$ are the values of the function at the left and right endpoints of the interval. Simpson's rule is a weighted average of the left, right, and midpoint rules.\n",
    "\n",
    "Simpson's rule is more accurate than the trapezoidal rule, but less accurate than Gaussian quadrature. Gaussian quadrature uses the roots of orthogonal polynomials to approximate the value of the function. Gaussian quadrature is given by the following formula:\n",
    "$$\n",
    "\\sum_{i=1}^{n} w_i f(x_i)\n",
    "$$\n",
    "where $w_i$ are the weights and $x_i$ are the roots of the orthogonal polynomials. Gaussian quadrature is more accurate than Simpson's rule and the trapezoidal rule. In this notebook, we will learn how to implement the trapezoidal rule in Python."
   ]
  },
  {
   "cell_type": "markdown",
   "metadata": {},
   "source": [
    "## Using the Trapezoidal Rule\n",
    "\n",
    "The trapezoidal rule can be used to approximate the definite integral of a function. The trapezoidal rule is given by the following formula:\n",
    "$$\n",
    "\\frac{\\Delta x}{2} \\left[ f(x_0) + 2 f(x_1) + 2 f(x_2) + \\ldots + 2 f(x_{n-1}) + f(x_n) \\right]\n",
    "$$\n",
    "where $\\Delta x = \\frac{b - a}{n}$ and $x_i = a + i \\Delta x$ for $i = 0, 1, 2, \\ldots, n$. The trapezoidal rule is a weighted average of the left and right endpoint rules. The trapezoidal rule is more accurate than the left and right endpoint rules, but less accurate than Simpson's rule and Gaussian quadrature. The trapezoidal rule can be implemented in Python using the following steps:\n",
    "\n",
    "1. Define the function $f(x)$.\n",
    "2. Define the interval $[a, b]$ and the number of subintervals $n$.\n",
    "3. Compute the width of each subinterval $\\Delta x = \\frac{b - a}{n}$.\n",
    "4. Compute the values of the function at the left and right endpoints of each subinterval $f(x_i)$ for $i = 0, 1, 2, \\ldots, n$.\n",
    "5. Compute the value of the definite integral using the trapezoidal rule.\n",
    "\n",
    "The trapezoidal rule can be implemented in Python using the following code:\n",
    "\n",
    "```python\n",
    "\n",
    "def trapezoidal_rule(f, a, b, n):\n",
    "    \"\"\"\n",
    "    Approximate the definite integral of the function f(x) over the interval [a, b] using the trapezoidal rule.\n",
    "    \n",
    "    Parameters\n",
    "    ----------\n",
    "    f : function\n",
    "        The function to integrate.\n",
    "    a : float\n",
    "        The lower limit of integration.\n",
    "    b : float\n",
    "        The upper limit of integration.\n",
    "    n : int\n",
    "        The number of subintervals to use.\n",
    "        \n",
    "    Returns\n",
    "    -------\n",
    "    float\n",
    "        An approximation of the definite integral of f(x) over the interval [a, b] using the trapezoidal rule.\n",
    "    \"\"\"\n",
    "    # Compute the width of each subinterval\n",
    "    dx = (b - a)\n",
    "    \n",
    "    # Compute the values of the function at the left and right endpoints of each subinterval\n",
    "    x = [a + i * dx for i in range(n + 1)]\n",
    "    y = [f(x_i) for x_i in x]\n",
    "    \n",
    "    # Compute the value of the definite integral using the trapezoidal rule\n",
    "    integral = dx * (0.5 * y[0] + 0.5 * y[-1] + sum(y[1:-1]))\n",
    "    \n",
    "    return integral\n",
    "```\n",
    "\n",
    "Observe what happens when you pass the funtion $f(x) = x^2$ to the trapezoidal rule function."
   ]
  },
  {
   "cell_type": "code",
   "execution_count": 5,
   "metadata": {},
   "outputs": [
    {
     "data": {
      "text/plain": [
       "0.33335000000000004"
      ]
     },
     "execution_count": 5,
     "metadata": {},
     "output_type": "execute_result"
    }
   ],
   "source": [
    "import numpy as np\n",
    "\n",
    "def square(x):\n",
    "    return x * x\n",
    "\n",
    "def trapeziodal_rule(f, a, b, n):\n",
    "# Compute the width of each subinterval\n",
    "    dx = (b - a) / n\n",
    "    \n",
    "    # Compute the values of the function at the left and right endpoints of each subinterval\n",
    "    x = np.linspace(a, b, num= n + 1)\n",
    "    y = f(x)\n",
    "    \n",
    "    # Compute the value of the definite integral using the trapezoidal rule\n",
    "    integral = dx * (np.sum(y) - 0.5 * (y[0] + y[-1]))\n",
    "    \n",
    "    return integral\n",
    "\n",
    "trapeziodal_rule(square, 0, 1, 100)"
   ]
  }
 ],
 "metadata": {
  "kernelspec": {
   "display_name": "Python 3",
   "language": "python",
   "name": "python3"
  },
  "language_info": {
   "codemirror_mode": {
    "name": "ipython",
    "version": 3
   },
   "file_extension": ".py",
   "mimetype": "text/x-python",
   "name": "python",
   "nbconvert_exporter": "python",
   "pygments_lexer": "ipython3",
   "version": "3.12.0"
  }
 },
 "nbformat": 4,
 "nbformat_minor": 2
}
