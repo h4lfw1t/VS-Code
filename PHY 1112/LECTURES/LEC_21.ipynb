{
 "cells": [
  {
   "cell_type": "markdown",
   "metadata": {},
   "source": [
    "# Bernouli Trials, Monte Carlo Methods, And Stochastic Processes\n",
    "\n",
    "Bernouli Trials are a sequence of independent experiments, each with two possible outcomes: success or failure. The probability of success is the same for each experiment. The number of successes in a sequence of Bernouli Trials is a random variable. The distribution of this random variable is called the Binomial Distribution. It has succes with probability p and failure with probability 1-p. The probability of getting k successes in n trials is given by the binomial coefficient:\n",
    "\n",
    "$$\n",
    "P(X = k) = \\binom{n}{k} p^k (1-p)^{n-k}\n",
    "$$\n",
    "\n",
    "A bernouli trial can be implmented by choosing a random number r between 0 and 1. If r is less than the probability of success, then the trial is a success, otherwise it is a failure.\n",
    "\n",
    "Stochastic decay is a process where a particle has a probability of decaying at each time step. The probability of decay is the same for each time step. The number of particles that decay in a sequence of time steps is a random variable. The distribution of this random variable is called the Poisson Distribution. It has a rate of decay of $\\lambda$. The probability of getting k decays in a sequence of time steps is given by the Poisson Distribution:\n",
    "\n",
    "$$\n",
    "P(X = k) = \\frac{\\lambda^k e^{-\\lambda}}{k!}\n",
    "$$\n",
    "\n",
    "A stochastic decay process can be implemented by choosing a random number r between 0 and 1. If r is less than the rate of decay, then the particle decays.\n",
    "This is nothing more than a Bernouli Trial with a probability of success equal to the rate of decay. If we have n particles, then the number of particles that decay in a sequence of time steps is a Binomial Distribution with n trials and a probability of success equal to the rate of decay. As n becomes large, the Binomial Distribution approaches the Poisson Distribution.\n",
    "Once we do the trials for a specific time step, we determine how many have decayed, subtract that from the amount there were before, and repeat the process for the next time step.\n",
    "\n",
    "Monte-Carlo integration by rejection is a method to estimate the value of an integral by generating random points in a region and counting the number of points that fall within the region defined by the integral. The ratio of the number of points that fall within the region to the total number of points generated is an estimate of the ratio of the area of the region to the area of the region that contains the points. The value of the integral is then the product of this ratio and the area of the region that contains the points.\n"
   ]
  },
  {
   "cell_type": "code",
   "execution_count": 45,
   "metadata": {},
   "outputs": [
    {
     "name": "stdout",
     "output_type": "stream",
     "text": [
      "[-0.01114295 -0.39698918 -0.44205598 ...  0.84670464 -0.59639113\n",
      "  0.57282288]\n",
      "[0.35980193 0.12663105 0.18485098 ... 0.26199977 0.14096573 0.42573116]\n"
     ]
    },
    {
     "data": {
      "text/plain": [
       "1.506"
      ]
     },
     "execution_count": 45,
     "metadata": {},
     "output_type": "execute_result"
    }
   ],
   "source": [
    "import numpy as np\n",
    "\n",
    "def monte_carlo_rejection_integration(f, a, b, N, H):\n",
    "    '''\n",
    "    (function, float, float, float, int) -> float\n",
    "    This function returns the integral of the function f over the interval [a, b] using the Monte Carlo method with rejection.\n",
    "    Preconditions: The function f is non-negative and continuous over the interval [a, b].\n",
    "    '''\n",
    "    # Initialize the variables\n",
    "    count = 0\n",
    "    # Generate a random x in the interval [a, b]\n",
    "    x = np.random.uniform(a, b, N)\n",
    "    # Generate a random y in the interval [0, H]\n",
    "    y = np.random.uniform(0, H, N)\n",
    "    # If y is less than f(x), increment the count\n",
    "    count = np.sum(y < f(x))\n",
    "    y_prime = np.where(y < f(x), y, np.nan)\n",
    "    x_prime = np.where(y < f(x), x, np.nan)\n",
    "    \n",
    "    x_prime = x_prime[~np.isnan(x_prime)]\n",
    "    y_prime = y_prime[~np.isnan(y_prime)]\n",
    "    \n",
    "    print(x_prime)\n",
    "    print(y_prime)\n",
    "    return (b - a) * H * count / N\n",
    "\n",
    "def monte_carlo_rejection_integration_unknown_H(f, a, b, N):\n",
    "    '''\n",
    "    (function, float, float, int) -> float\n",
    "    This function returns the integral of the function f over the interval [a, b] using the Monte Carlo method with rejection.\n",
    "    Preconditions: The function f is non-negative and continuous over the interval [a, b].\n",
    "    '''\n",
    "    # Initialize the variables\n",
    "    count = 0\n",
    "    H = np.max([f(np.random.uniform(a, b)) for _ in range(1000)])\n",
    "    # Generate a random x in the interval [a, b]\n",
    "    x = np.random.uniform(a, b, N)\n",
    "    # Generate a random y in the interval [0, H]\n",
    "    y = np.random.uniform(0, H, N)\n",
    "    # If y is less than f(x), increment the count\n",
    "    count = np.sum(y < f(x))\n",
    "    y_prime = np.where(y < f(x), y, np.nan)\n",
    "    x_prime = np.where(y < f(x), x, np.nan)\n",
    "    \n",
    "    x_prime = x_prime[~np.isnan(x_prime)]\n",
    "    y_prime = y_prime[~np.isnan(y_prime)]\n",
    "    \n",
    "    print(x_prime)\n",
    "    print(y_prime)\n",
    "    return (b - a) * H * count / N\n",
    "\n",
    "def f(x):\n",
    "    '''\n",
    "    (float) -> float\n",
    "    This function returns the value of the function f(x) = 1e(-x^2) at x. Note that f(x) is always non-negative.\n",
    "    Precondition: x is a float.\n",
    "    '''\n",
    "    return np.exp(-x**2)\n",
    "\n",
    "monte_carlo_rejection_integration(f, -1, 1, 10000, 1)"
   ]
  }
 ],
 "metadata": {
  "kernelspec": {
   "display_name": "Python 3",
   "language": "python",
   "name": "python3"
  },
  "language_info": {
   "codemirror_mode": {
    "name": "ipython",
    "version": 3
   },
   "file_extension": ".py",
   "mimetype": "text/x-python",
   "name": "python",
   "nbconvert_exporter": "python",
   "pygments_lexer": "ipython3",
   "version": "3.12.2"
  }
 },
 "nbformat": 4,
 "nbformat_minor": 2
}
