{
 "cells": [
  {
   "cell_type": "markdown",
   "metadata": {},
   "source": [
    "# Root Finding\n",
    "\n",
    "Finding the root of a function is a common problem in mathematics and computer science, and is a rather easy concept to understand as a root is where the function equals 0. There are many methods to find the root of a function, and in this notebook we will discuss some of the most common ones.\n",
    "\n",
    "### Transcendental Equations\n",
    "\n",
    "A transcendental equation is an equation that cannot be solved by elementary functions. For example, the equation $x = \\sin(x)$ is a transcendental equation. The root of a transcendental equation can be found using numerical methods. The following is an example of a transcendental equation:"
   ]
  },
  {
   "cell_type": "markdown",
   "metadata": {},
   "source": [
    "$$tan(\\frac{\\pi d}{\\lambda}cos(\\theta)) = \\sqrt{\\frac{n_1^2-_2^2}{n_1^2cos(\\theta)^2}}$$"
   ]
  },
  {
   "cell_type": "markdown",
   "metadata": {},
   "source": [
    "### Root Finding Via Bisection Method\n",
    "\n",
    "The bisection method is a simple root finding algorithm that works by repeatedly dividing the interval in half and then selecting the subinterval in which the root must lie. The bisection method is guaranteed to converge to a root if the function is continuous and the initial interval contains a root. The bisection method is a simple and robust method for finding the root of a function.\n",
    "We can implement the bisection method as follows:\n",
    "\n",
    "1. Choose an interval $[a, b]$ such that $f(a) \\cdot f(b) < 0$. Define a tolerance $\\epsilon$ for the desired accuracy.\n",
    "2. Compute the midpoint $c = \\frac{a + b}{2}$.\n",
    "3. If $f(c) = 0$, then $c$ is the root.\n",
    "4. If $f(a) \\cdot f(c) < 0$, then the root lies in the interval $[a, c]$. Or if $f(a)$ does not have the same sign as $f(c)$, then the root lies in the interval $[a, c]$. \n",
    "5. If $f(b) \\cdot f(c) < 0$, then the root lies in the interval $[c, b]$. Or, if $f(b)$ does not have the same sign as $f(c)$, then the root lies in the interval $[c, b]$.\n",
    "6. Repeat steps 2-5 until the interval is sufficiently small ($x_n - x_{root} <= \\epsilon$).\n",
    "\n",
    "The bisection method is guaranteed to converge to a root if the function is continuous and the initial interval contains a root. The bisection method is a simple and robust method for finding the root of a function."
   ]
  },
  {
   "cell_type": "code",
   "execution_count": 46,
   "metadata": {},
   "outputs": [
    {
     "name": "stdout",
     "output_type": "stream",
     "text": [
      "2\n"
     ]
    }
   ],
   "source": [
    "import numpy as np\n",
    "\n",
    "def bisection_root(f, a, b, tolerance):\n",
    "    '''\n",
    "    (float, float, function) -> float\n",
    "    This function finds the root of a function f(x) using the bisection method.\n",
    "    Preconditions: tolerance is positive.\n",
    "    '''\n",
    "    if a >= b:\n",
    "        a, b = b, a\n",
    "        print(\"a and b have been swapped due to ValueError: a >= b\")\n",
    "    \n",
    "    if np.sign(f(a)) == np.sign(f(b)):\n",
    "        print(\"ValueError: f(a) and f(b) have the same sign. Please choose different a and b.\")\n",
    "        return None\n",
    "    \n",
    "    if f(a) == 0:\n",
    "        return a\n",
    "    if f(b) == 0:\n",
    "        return b\n",
    "    \n",
    "    while abs(b - a) > tolerance:\n",
    "        c = (a + b) / 2\n",
    "        if f(c) == 0:\n",
    "            return c\n",
    "        elif f(a) * f(c) < 0:\n",
    "            b = c\n",
    "        else:\n",
    "            a = c\n",
    "    return c\n",
    "\n",
    "def f(x):\n",
    "    return x-2\n",
    "\n",
    "\n",
    "print(bisection_root(f, -2, 2, 0.000001))"
   ]
  }
 ],
 "metadata": {
  "kernelspec": {
   "display_name": "Python 3",
   "language": "python",
   "name": "python3"
  },
  "language_info": {
   "codemirror_mode": {
    "name": "ipython",
    "version": 3
   },
   "file_extension": ".py",
   "mimetype": "text/x-python",
   "name": "python",
   "nbconvert_exporter": "python",
   "pygments_lexer": "ipython3",
   "version": "3.12.0"
  }
 },
 "nbformat": 4,
 "nbformat_minor": 2
}
