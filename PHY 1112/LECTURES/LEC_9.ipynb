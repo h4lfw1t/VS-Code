{
 "cells": [
  {
   "cell_type": "markdown",
   "metadata": {},
   "source": [
    "# Scientific Data and NumPy\n",
    "\n",
    "Scientific data usually consists of numbers and large data sets. These can be multi-dimensional values that often include uncertainty and errors that must be considered.\n",
    "\n",
    "NumPy, short for numerical python, is a Python library that provides support for large, multi-dimensional arrays and matrices, along with a collection of mathematical functions to operate on these arrays. It is the fundamental package for scientific computing with Python.\n",
    "An important feature of NumPy is the ndarray, a multi-dimensional array object that is fast and flexible. It is the foundation of the scientific computing stack in Python.\n",
    "An example of a 1D ndarray is as follows:\n"
   ]
  },
  {
   "cell_type": "code",
   "execution_count": 2,
   "metadata": {},
   "outputs": [
    {
     "name": "stdout",
     "output_type": "stream",
     "text": [
      "list: [0, 1, 2, 3, 4]\n",
      "array: [0 1 2 3 4]\n",
      "list[0]: 0\n",
      "array[0]: 0\n"
     ]
    }
   ],
   "source": [
    "import numpy as np\n",
    "\n",
    "my_list = [0, 1, 2, 3, 4]\n",
    "my_array = np.array(my_list) # this is casting a list to an ndarray\n",
    "\n",
    "print(f'list: {my_list}')\n",
    "print(f'array: {my_array}')\n",
    "print(f'list[0]: {my_list[0]}')\n",
    "print(f'array[0]: {my_array[0]}')"
   ]
  },
  {
   "cell_type": "markdown",
   "metadata": {},
   "source": [
    "While there doesn't appear to be much difference between a list and a 1D ndarray, the ndarray is much more powerful and flexible. For example, you can perform mathematical operations on the entire array at once, and you can easily reshape the array into a 2D or 3D array.\n",
    "Indexing arrays and slicing arrays looks very similar to list slicing. For example, to get the first 3 elements of the array, you would use the following code:\n",
    "\n",
    "``` python\n",
    "import numpy as np\n",
    "\n",
    "a = np.array([1, 2, 3, 4, 5])\n",
    "print(a[:3])\n",
    "```\n",
    "\n",
    "When creating a 2d array with numpy, you can access specific elements in both the columns and rows of the list by using typical slicing notation, such as array[0, 1] to access the element in the first row and second column. You can also use slicing to access entire rows or columns of the array. For example, array[0, :] will return the entire first row of the array, and array[:, 1] will return the entire second column of the array.\n",
    "\n",
    "``` python\n",
    "import numpy as np\n",
    "\n",
    "a = np.array([[1, 2, 3], [4, 5, 6], [7, 8, 9]])\n",
    "print(a[0, 1])\n",
    "print(a[0, :])\n",
    "print(a[:, 1])\n",
    "```\n",
    "\n",
    "Typically when working with lists containing large data sets, each data address would have to be accessed individually in order to perform operations on the data using for loops and similar funtions. This results in rather 'slow' execution, with is unideal for large data sets. NumPy, on the other hand, facilitates vectorized computation to replace python loops. Vectorization means that the loops are not done in python code, but rather by pre-compiled C code, which is much faster. This is one of the reasons why NumPy is so much faster than standard python lists. This is possible due to the fixed size and fixed type of an ndarray, which allows for the array to be stored in a single block of memory. This allows for fast access to the elements in the array, and also allows for fast mathematical operations on the entire array."
   ]
  },
  {
   "cell_type": "code",
   "execution_count": 4,
   "metadata": {},
   "outputs": [
    {
     "name": "stdout",
     "output_type": "stream",
     "text": [
      "Time to find max of list (for-loop)): 0.13540410995483398\n",
      "Time to find max of list (max()): 0.007051229476928711\n",
      "Time to find max of array (np.max()): 0.0\n"
     ]
    }
   ],
   "source": [
    "import time as t\n",
    "import numpy as np\n",
    "\n",
    "long_list = list(range(1000000))\n",
    "long_array = np.array(long_list)\n",
    "\n",
    "t0 = t.time()\n",
    "\n",
    "maximum = 0\n",
    "for i in long_list:\n",
    "    if i > maximum:\n",
    "        maximum = i\n",
    "\n",
    "t1 = t.time()\n",
    "max(long_list)\n",
    "\n",
    "t2 = t.time()\n",
    "np.max(long_array)\n",
    "\n",
    "t3 = t.time()\n",
    "\n",
    "print(f'Time to find max of list (for-loop)): {t1 - t0}')\n",
    "print(f'Time to find max of list (max()): {t2 - t1}')\n",
    "print(f'Time to find max of array (np.max()): {t3 - t2}')"
   ]
  },
  {
   "cell_type": "markdown",
   "metadata": {},
   "source": [
    "The general approach of applying an operation to all entries in an array, rather than looping over individual elements, is called vectorization. We can apply many mathematical operations to and between ndarrays that will be applied to each element in the array. For example, if we have an array a, we can easily add 1 to each element in the array by using the following code:\n",
    "\n",
    "``` python\n",
    "import numpy as np\n",
    "\n",
    "a = np.array([1, 2, 3, 4, 5])\n",
    "a = a + 1\n",
    "print(a)\n",
    "```\n",
    "\n",
    "This will add 1 to each element in the array, and the result will be [2, 3, 4, 5, 6]. This is much faster than using a for loop to add 1 to each element in the array.\n"
   ]
  },
  {
   "cell_type": "code",
   "execution_count": 5,
   "metadata": {},
   "outputs": [
    {
     "name": "stdout",
     "output_type": "stream",
     "text": [
      "[3 4 5 6]\n",
      "[2 4 6 8]\n",
      "[ 1  4  9 16] \n",
      "\n",
      "[ 6  8 10 12]\n",
      "[ 5 12 21 32]\n",
      "[    1    64  2187 65536]\n"
     ]
    }
   ],
   "source": [
    "import numpy as np\n",
    "\n",
    "a1 = np.array([1, 2, 3, 4])\n",
    "a2 = np.array([5, 6, 7, 8])\n",
    "\n",
    "print(a1 + 2)\n",
    "print(a1 * 2)\n",
    "print(a1 **2, '\\n')\n",
    "\n",
    "print(a1 + a2)\n",
    "print(a1 * a2)\n",
    "print(a1 ** a2)\n"
   ]
  },
  {
   "cell_type": "markdown",
   "metadata": {},
   "source": [
    "Some useful functions that can be used with ndarrays include:\n",
    "- ndarray.shape: returns the dimensions of the array\n",
    "- ndarray.size: returns the number of elements in the array\n",
    "- ndarray.dtype: returns the type of the elements in the array\n",
    "- ndarray.ndim: returns the number of dimensions of the array\n",
    "- ndarray.T: returns the transpose of the array\n",
    "- ndarray.reshape: returns a new array with the same data but a different shape\n",
    "- ndarray.flatten: returns a 1D array with all the elements of the original array\n",
    "- ndarray.min: returns the minimum value in the array\n",
    "- ndarray.max: returns the maximum value in the array\n",
    "- ndarray.mean: returns the mean of the array\n",
    "- ndarray.sum: returns the sum of the array\n",
    "- ndarray.std: returns the standard deviation of the array\n",
    "- ndarray.var: returns the variance of the array\n",
    "- ndarray.argmin: returns the index of the minimum value in the array\n",
    "- ndarray.argmax: returns the index of the maximum value in the array\n",
    "- ndarray.argsort: returns the indices that would sort the array\n",
    "\n",
    "These functions can be used to perform a wide variety of operations on ndarrays, and are very useful when working with large data sets.\n",
    "\n",
    "\n",
    "The simplest way to picture the abilities of ndarrays is an n-dimenstional matrix like seen in linear algebra. While lists and n-dimensional lists are meant to closely resemble the structure of a matrix, ndarrays are meant to be used as a matrix. This means that you can perform matrix operations on ndarrays, such as matrix multiplication, matrix addition, and matrix inversion. This is very useful when working with large data sets, as it allows for fast and efficient computation of large matrices. This is one of the reasons why NumPy is so popular in the scientific computing community, as it allows for fast and efficient computation of large data sets."
   ]
  }
 ],
 "metadata": {
  "kernelspec": {
   "display_name": "Python 3",
   "language": "python",
   "name": "python3"
  },
  "language_info": {
   "codemirror_mode": {
    "name": "ipython",
    "version": 3
   },
   "file_extension": ".py",
   "mimetype": "text/x-python",
   "name": "python",
   "nbconvert_exporter": "python",
   "pygments_lexer": "ipython3",
   "version": "3.12.0"
  }
 },
 "nbformat": 4,
 "nbformat_minor": 2
}
